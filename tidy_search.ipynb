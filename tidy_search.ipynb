{
 "metadata": {
  "language_info": {
   "codemirror_mode": {
    "name": "ipython",
    "version": 3
   },
   "file_extension": ".py",
   "mimetype": "text/x-python",
   "name": "python",
   "nbconvert_exporter": "python",
   "pygments_lexer": "ipython3",
   "version": "3.9.0-final"
  },
  "orig_nbformat": 2,
  "kernelspec": {
   "name": "python3",
   "display_name": "Python 3.9.0 64-bit",
   "metadata": {
    "interpreter": {
     "hash": "aee8b7b246df8f9039afb4144a1f6fd8d2ca17a180786b69acc140d282b71a49"
    }
   }
  }
 },
 "nbformat": 4,
 "nbformat_minor": 2,
 "cells": [
  {
   "cell_type": "code",
   "execution_count": 1,
   "metadata": {},
   "outputs": [],
   "source": [
    "import pandas as pd\n",
    "import numpy as np\n",
    "import matplotlib.pyplot as plt\n",
    "from fuzzywuzzy import  fuzz\n",
    "from fuzzywuzzy import process\n",
    "import seaborn as sns"
   ]
  },
  {
   "cell_type": "code",
   "execution_count": 4,
   "metadata": {},
   "outputs": [
    {
     "output_type": "stream",
     "name": "stdout",
     "text": [
      "          key_1       key_2        key_3  Clics  Impresiones     CTR  Posición\n0          at&t    colombia          NaN      1           16   6.25%      5.94\n1           2.4           a     cargador      1            6  16.67%      6.00\n2    accesorios      iphone           5s      0           54      0%     16.54\n3    accesorios      iphone            5      0           48      0%     16.19\n4       bateria      iphone           5s      0           48      0%     45.98\n..          ...         ...          ...    ...          ...     ...       ...\n157    conducir         con  auriculares      0            1      0%     83.00\n158         att       cable          NaN      0            1      0%     84.00\n159       carga  plataforma          NaN      0            1      0%     86.00\n160        tipo          de        carga      0            1      0%     91.00\n161        hp10         NaN          NaN      0            1      0%     94.00\n\n[162 rows x 7 columns]\n['at&t' '2.4' 'accesorios' 'bateria' 'funda' 'iphone' 'cargador' 'fundas'\n 'audifonos' 'mini' 'conducir' 'audífonos' 'que' 'diademas' 'diadema'\n 'cable' 'altavoz' 'portatil' 'auriculares' '2days' 'att' '3.4' 'hot'\n 'parlante' 'batería' 'palanca' 'cargadores' 'control' 'estuche'\n 'bluetooth' 'estuches' 'ebv01' 'baterías' 'att&t' 'days-solution.com'\n 'a&tt' 'usb' 'bts100' 'seb50' 'a' 'diadema.con' 'at' 'pin' '30' 'cables'\n 'baterã\\xada' 'pines' 'pila' 'linterna' 'plataforma' 'estereo' 'volumen'\n 'baterias' 'carga' 'micro' 'puerto' 'hp05' 'apple' 'micrófono'\n 'parlantes' 'ptbp' 'amperios' 'tipo' 'hp10']\n"
     ]
    },
    {
     "output_type": "execute_result",
     "data": {
      "text/plain": [
       "98"
      ]
     },
     "metadata": {},
     "execution_count": 4
    }
   ],
   "source": [
    "consultas = pd.read_csv(\"/Users/mariolizarazorangel/Desktop/analisis/consultas_py.csv\")\n",
    "print(consultas)\n",
    "\n",
    "print(consultas[\"key_1\"].unique())\n",
    "len(consultas[\"key_1\"]) - len(consultas[\"key_1\"].unique())"
   ]
  },
  {
   "cell_type": "code",
   "execution_count": 5,
   "metadata": {},
   "outputs": [],
   "source": [
    "#Create a list of matches, comparing 'italian' with the cuisine_type column\n",
    "matches = process.extract('audifonos', consultas['key_1'], limit=len(consultas[\"key_1\"]))\n",
    "matches_att =  process.extract(\"att\",consultas[\"key_1\"],limit = len(consultas[\"key_1\"]))\n",
    "matches_auriculares =process.extract('auriculares', consultas['key_1'], limit=len(consultas[\"key_1\"]))\n",
    "matches_bateria =process.extract('bateria', consultas['key_1'], limit=len(consultas[\"key_1\"]))\n",
    "matches_cargador = process.extract('cargador', consultas['key_1'], limit=len(consultas[\"key_1\"]))\n",
    "matches_fundas = process.extract('fundas', consultas['key_1'], limit=len(consultas[\"key_1\"]))\n",
    "matches_diademas = process.extract('diademas', consultas['key_1'], limit=len(consultas[\"key_1\"]))\n",
    "matches_parlante = process.extract('parlante', consultas['key_1'], limit=len(consultas[\"key_1\"]))\n",
    "matches_altavoz = process.extract('altavoz', consultas['key_1'], limit=len(consultas[\"key_1\"]))\n",
    "matches_estereo = process.extract('estereo', consultas['key_1'], limit=len(consultas[\"key_1\"]))\n",
    "matches_microfono = process.extract('microfono', consultas['key_1'], limit=len(consultas[\"key_1\"]))\n",
    "matches_5 = process.extract('5', consultas['key_1'], limit=len(consultas[\"key_1\"]))\n",
    "matches_pines = process.extract('pin', consultas['key_1'], limit=len(consultas[\"key_1\"]))\n",
    "matches_cable = process.extract('cable', consultas['key_1'], limit=len(consultas[\"key_1\"]))\n",
    "matches_2_4 = process.extract('2.4', consultas['key_1'], limit=len(consultas[\"key_1\"]))\n",
    "matches_amperios = process.extract('amperios', consultas['key_1'], limit=len(consultas[\"key_1\"]))\n",
    "matches_electronicos = process.extract('electronicos', consultas['key_1'], limit=len(consultas[\"key_1\"]))\n",
    "\n",
    "# Iterate through the list of matches to italian\n",
    "for match in matches:\n",
    "  # Check whether the similarity score is greater than or equal to 80\n",
    "  if match[1] >= 80:\n",
    "    # Select all rows where the cuisine_type is spelled this way, and set them to the correct cuisine\n",
    "    consultas.loc[consultas[\"key_1\"] == match[0],\"key_1\"]= \"audifonos\"\n",
    "# Iterate through the list of matches to italian\n",
    "for match in matches_att:\n",
    "  # Check whether the similarity score is greater than or equal to 80\n",
    "  if match[1] >= 86:\n",
    "    # Select all rows where the cuisine_type is spelled this way, and set them to the correct cuisine\n",
    "    consultas.loc[consultas[\"key_1\"] == match[0],\"key_1\"]= \"at&t\"\n",
    "\n",
    "for match in matches_auriculares:\n",
    "  # Check whether the similarity score is greater than or equal to 80\n",
    "  if match[1] >= 80:\n",
    "    # Select all rows where the cuisine_type is spelled this way, and set them to the correct cuisine\n",
    "    consultas.loc[consultas[\"key_1\"] == match[0],\"key_1\"]= \"auriculares\"\n",
    "for match in matches_bateria:\n",
    "  # Check whether the similarity score is greater than or equal to 80\n",
    "  if match[1] >= 80:\n",
    "    # Select all rows where the cuisine_type is spelled this way, and set them to the correct cuisine\n",
    "    consultas.loc[consultas[\"key_1\"] == match[0],\"key_1\"]= \"bateria\"\n",
    "for match in matches_cargador:\n",
    "  # Check whether the similarity score is greater than or equal to 80\n",
    "  if match[1] >= 80:\n",
    "    # Select all rows where the cuisine_type is spelled this way, and set them to the correct cuisine\n",
    "    consultas.loc[consultas[\"key_1\"] == match[0],\"key_1\"]= \"cargador\"\n",
    "for match in matches_diademas:\n",
    "  # Check whether the similarity score is greater than or equal to 80\n",
    "  if match[1] >= 73:\n",
    "    # Select all rows where the cuisine_type is spelled this way, and set them to the correct cuisine\n",
    "    consultas.loc[consultas[\"key_1\"] == match[0],\"key_1\"]= \"diademas\"\n",
    "for match in matches_fundas:\n",
    "  # Check whether the similarity score is greater than or equal to 80\n",
    "  if match[1] >= 80:\n",
    "    # Select all rows where the cuisine_type is spelled this way, and set them to the correct cuisine\n",
    "    consultas.loc[consultas[\"key_1\"] == match[0],\"key_1\"]= \"fundas\"\n",
    "for match in matches_parlante:\n",
    "  # Check whether the similarity score is greater than or equal to 80\n",
    "  if match[1] >= 80:\n",
    "    # Select all rows where the cuisine_type is spelled this way, and set them to the correct cuisine\n",
    "    consultas.loc[consultas[\"key_1\"] == match[0],\"key_1\"]= \"parlantes\"\n",
    "for match in matches_altavoz:\n",
    "  # Check whether the similarity score is greater than or equal to 80\n",
    "  if match[1] >= 80:\n",
    "    # Select all rows where the cuisine_type is spelled this way, and set them to the correct cuisine\n",
    "    consultas.loc[consultas[\"key_1\"] == match[0],\"key_1\"]= \"altavoz\"\n",
    "for match in matches_estereo:\n",
    "  # Check whether the similarity score is greater than or equal to 80\n",
    "  if match[1] >= 80:\n",
    "    # Select all rows where the cuisine_type is spelled this way, and set them to the correct cuisine\n",
    "    consultas.loc[consultas[\"key_1\"] == match[0],\"key_1\"]= \"estereo\"\n",
    "for match in matches_microfono:\n",
    "  # Check whether the similarity score is greater than or equal to 80\n",
    "  if match[1] >= 94:\n",
    "    # Select all rows where the cuisine_type is spelled this way, and set them to the correct cuisine\n",
    "    consultas.loc[consultas[\"key_1\"] == match[0],\"key_1\"]= \"microfono\"\n",
    "\n",
    "for match in matches_5:\n",
    "    if match[1] >= 90:\n",
    "        consultas.loc[consultas[\"key_1\"]== match[0],\"key_1\"] = \"5s\"\n",
    "\n",
    "for match in matches_pines:\n",
    "    if match[1] >= 67:\n",
    "        consultas.loc[consultas[\"key_1\"]== match[0],\"key_1\"] = \"pin\"\n",
    "\n",
    "for match in matches_pines:\n",
    "    if match[1] >= 91:\n",
    "        consultas.loc[consultas[\"key_1\"]== match[0],\"key_1\"] = \"cable\"\n",
    "\n",
    "for match in matches_2_4:\n",
    "    if match[1] >= 86:\n",
    "        consultas.loc[consultas[\"key_1\"]== match[0],\"key_1\"] = \"2.4a\"\n",
    "\n",
    "\n",
    "for match in matches_amperios:\n",
    "    if match[1] >= 86:\n",
    "        consultas.loc[consultas[\"key_1\"]== match[0],\"key_1\"] = \"amperios\"\n",
    "\n",
    "for match in matches_amperios:\n",
    "    if match[1] >= 90:\n",
    "        consultas.loc[consultas[\"key_1\"]== match[0],\"key_1\"] = \"electronicos\"\n",
    "\n"
   ]
  },
  {
   "cell_type": "code",
   "execution_count": 6,
   "metadata": {},
   "outputs": [
    {
     "output_type": "stream",
     "name": "stdout",
     "text": [
      "96\n45\n['at&t' '2.4a' 'accesorios' 'bateria' 'fundas' 'iphone' 'cargador'\n 'audifonos' 'mini' 'conducir' 'que' 'diademas' 'cable' 'altavoz'\n 'portatil' 'auriculares' '2days' '3.4' 'hot' 'parlantes' 'palanca'\n 'control' 'estuche' 'bluetooth' 'estuches' 'ebv01' 'days-solution.com'\n 'usb' 'bts100' '5s' '30' 'cables' 'pila' 'linterna' 'plataforma'\n 'estereo' 'volumen' 'micro' 'puerto' 'apple' 'microfono' 'ptbp'\n 'electronicos' 'tipo' 'hp10']\n"
     ]
    }
   ],
   "source": [
    "print(fuzz.WRatio(\"electronicos\",\"electrónicos\"))\n",
    "print(len(consultas[\"key_1\"].unique()))\n",
    "print(consultas[\"key_1\"].unique())\n"
   ]
  },
  {
   "cell_type": "code",
   "execution_count": 7,
   "metadata": {},
   "outputs": [],
   "source": [
    "#Create a list of matches, comparing 'italian' with the cuisine_type column\n",
    "matches_2 = process.extract('audifonos', consultas['key_2'], limit=len(consultas[\"key_2\"]))\n",
    "matches_att_2 =  process.extract(\"att\",consultas[\"key_2\"],limit = len(consultas[\"key_2\"]))\n",
    "matches_auriculares_2 =process.extract('auriculares', consultas['key_2'], limit=len(consultas[\"key_2\"]))\n",
    "matches_bateria_2 =process.extract('bateria', consultas['key_2'], limit=len(consultas[\"key_2\"]))\n",
    "matches_cargador_2 = process.extract('cargador', consultas['key_2'], limit=len(consultas[\"key_2\"]))\n",
    "matches_fundas_2 = process.extract('fundas', consultas['key_2'], limit=len(consultas[\"key_2\"]))\n",
    "matches_diademas_2 = process.extract('diademas', consultas['key_2'], limit=len(consultas[\"key_2\"]))\n",
    "matches_parlante_2 = process.extract('parlante', consultas['key_2'], limit=len(consultas[\"key_2\"]))\n",
    "matches_altavoz_2 = process.extract('altavoz', consultas['key_2'], limit=len(consultas[\"key_2\"]))\n",
    "matches_estereo_2 = process.extract('estereo', consultas['key_2'], limit=len(consultas[\"key_2\"]))\n",
    "matches_microfono_2 = process.extract('microfono', consultas['key_2'], limit=len(consultas[\"key_2\"]))\n",
    "matches_inalambricos_2 = process.extract('inalambricos', consultas['key_2'], limit=len(consultas[\"key_2\"]))\n",
    "matches_5_2 = process.extract('5', consultas['key_2'], limit=len(consultas[\"key_2\"]))\n",
    "matches_pines_2 = process.extract('pin', consultas['key_2'], limit=len(consultas[\"key_2\"]))\n",
    "matches_cable_2 = process.extract('cable', consultas['key_2'], limit=len(consultas[\"key_2\"]))\n",
    "matches_2_4_2 = process.extract('2.4', consultas['key_2'], limit=len(consultas[\"key_2\"]))\n",
    "matches_amperios_2 = process.extract('amperios', consultas['key_2'], limit=len(consultas[\"key_2\"]))\n",
    "matches_electronicos_2 = process.extract('electronicos', consultas['key_2'], limit=len(consultas[\"key_2\"]))\n",
    "\n",
    "\n",
    "# Iterate through the list of matches to italian\n",
    "for match in matches_2:\n",
    "  # Check whether the similarity score is greater than or equal to 80\n",
    "  if match[1] >= 80:\n",
    "    # Select all rows where the cuisine_type is spelled this way, and set them to the correct cuisine\n",
    "    consultas.loc[consultas[\"key_2\"] == match[0],\"key_2\"]= \"audifonos\"\n",
    "for match in matches_att_2:\n",
    "  # Check whether the similarity score is greater than or equal to 80\n",
    "  if match[1] >= 86:\n",
    "    # Select all rows where the cuisine_type is spelled this way, and set them to the correct cuisine\n",
    "    consultas.loc[consultas[\"key_2\"] == match[0],\"key_2\"]= \"at&t\"\n",
    "\n",
    "for match in matches_auriculares_2:\n",
    "  # Check whether the similarity score is greater than or equal to 80\n",
    "  if match[1] >= 80:\n",
    "    # Select all rows where the cuisine_type is spelled this way, and set them to the correct cuisine\n",
    "    consultas.loc[consultas[\"key_2\"] == match[0],\"key_2\"]= \"auriculares\"\n",
    "for match in matches_bateria_2:\n",
    "  # Check whether the similarity score is greater than or equal to 80\n",
    "  if match[1] >= 91:\n",
    "    # Select all rows where the cuisine_type is spelled this way, and set them to the correct cuisine\n",
    "    consultas.loc[consultas[\"key_2\"] == match[0],\"key_2\"]= \"bateria\"\n",
    "for match in matches_cargador_2:\n",
    "  # Check whether the similarity score is greater than or equal to 80\n",
    "  if match[1] >= 80:\n",
    "    # Select all rows where the cuisine_type is spelled this way, and set them to the correct cuisine\n",
    "    consultas.loc[consultas[\"key_2\"] == match[0],\"key_2\"]= \"cargador\"\n",
    "for match in matches_diademas_2:\n",
    "  # Check whether the similarity score is greater than or equal to 80\n",
    "  if match[1] >= 73:\n",
    "    # Select all rows where the cuisine_type is spelled this way, and set them to the correct cuisine\n",
    "    consultas.loc[consultas[\"key_2\"] == match[0],\"key_2\"]= \"diademas\"\n",
    "for match in matches_fundas_2:\n",
    "  # Check whether the similarity score is greater than or equal to 80\n",
    "  if match[1] >= 80:\n",
    "    # Select all rows where the cuisine_type is spelled this way, and set them to the correct cuisine\n",
    "    consultas.loc[consultas[\"key_2\"] == match[0],\"key_2\"]= \"fundas\"\n",
    "for match in matches_parlante_2:\n",
    "  # Check whether the similarity score is greater than or equal to 80\n",
    "  if match[1] >= 80:\n",
    "    # Select all rows where the cuisine_type is spelled this way, and set them to the correct cuisine\n",
    "    consultas.loc[consultas[\"key_2\"] == match[0],\"key_2\"]= \"parlantes\"\n",
    "for match in matches_altavoz_2:\n",
    "  # Check whether the similarity score is greater than or equal to 80\n",
    "  if match[1] >= 80:\n",
    "    # Select all rows where the cuisine_type is spelled this way, and set them to the correct cuisine\n",
    "    consultas.loc[consultas[\"key_2\"] == match[0],\"key_2\"]= \"altavoz\"\n",
    "for match in matches_estereo_2:\n",
    "  # Check whether the similarity score is greater than or equal to 80\n",
    "  if match[1] >= 80:\n",
    "    # Select all rows where the cuisine_type is spelled this way, and set them to the correct cuisine\n",
    "    consultas.loc[consultas[\"key_2\"] == match[0],\"key_2\"]= \"estereo\"\n",
    "for match in matches_microfono_2:\n",
    "  # Check whether the similarity score is greater than or equal to 80\n",
    "  if match[1] >= 94:\n",
    "    # Select all rows where the cuisine_type is spelled this way, and set them to the correct cuisine\n",
    "    consultas.loc[consultas[\"key_2\"] == match[0],\"key_2\"]= \"microfono\"\n",
    "for match in matches_inalambricos_2:\n",
    "  # Check whether the similarity score is greater than or equal to 80\n",
    "  if match[1] >= 80:\n",
    "    # Select all rows where the cuisine_type is spelled this way, and set them to the correct cuisine\n",
    "    consultas.loc[consultas[\"key_2\"] == match[0],\"key_2\"]= \"inalambrico\"\n",
    "for match in matches_5_2:\n",
    "    if match[1] >= 90:\n",
    "        consultas.loc[consultas[\"key_2\"]== match[0],\"key_2\"] = \"5s\"\n",
    "\n",
    "for match in matches_pines_2:\n",
    "    if match[1] >= 90:\n",
    "        consultas.loc[consultas[\"key_2\"]== match[0],\"key_2\"] = \"pin\"\n",
    "\n",
    "for match in matches_cable_2:\n",
    "    if match[1] >= 90:\n",
    "        consultas.loc[consultas[\"key_2\"]== match[0],\"key_2\"] = \"cable\"\n",
    "\n",
    "for match in matches_2_4_2:\n",
    "    if match[1] >= 86:\n",
    "        consultas.loc[consultas[\"key_2\"]== match[0],\"key_2\"] = \"2.4a\"\n",
    "for match in matches_amperios_2:\n",
    "    if match[1] >= 86:\n",
    "        consultas.loc[consultas[\"key_2\"]== match[0],\"key_2\"] = \"amperios\"\n",
    "for match in matches_electronicos_2:\n",
    "    if match[1] >= 90:\n",
    "        consultas.loc[consultas[\"key_2\"]== match[0],\"key_2\"] = \"electronicos\""
   ]
  },
  {
   "cell_type": "code",
   "execution_count": 8,
   "metadata": {},
   "outputs": [
    {
     "output_type": "stream",
     "name": "stdout",
     "text": [
      "90\n48\n['colombia' 'at&t' 'iphone' '5s' '2.4a' 'para' 'cargador' 'premier'\n 'parlantes' 'con' 'estereo' 'diademas' 'auriculares' '3.4' 'audifonos'\n 'altavoz' 'portatil' 'inalambrico' 'mini' 'bicicleta' nan 'joe' 'jack'\n 'samsung' 'tipo' 'bateria' 'cable' 'amperes' 'accesorios' 'usb'\n 'electronicos' 'intrauditivos' 'y' 'se' 'bluetooth' 'microfono' 'dobles'\n '&' 'micro' 'pin' 'telefónicas' '30' '3' 'lightning' 'rastreo' 'apple'\n 'términos' 'plataforma']\n"
     ]
    }
   ],
   "source": [
    "print(fuzz.WRatio(\"amperes\",\"amp\"))\n",
    "print(len(consultas[\"key_2\"].unique()))\n",
    "print(consultas[\"key_2\"].unique())"
   ]
  },
  {
   "cell_type": "code",
   "execution_count": 9,
   "metadata": {},
   "outputs": [],
   "source": [
    "#Create a list of matches, comparing 'italian' with the cuisine_type column\n",
    "matches_3 = process.extract('audifonos', consultas['key_3'], limit=len(consultas[\"key_3\"]))\n",
    "matches_att_3 =  process.extract(\"att\",consultas[\"key_3\"],limit = len(consultas[\"key_3\"]))\n",
    "matches_auriculares_3 =process.extract('auriculares', consultas['key_3'], limit=len(consultas[\"key_3\"]))\n",
    "matches_bateria_3 =process.extract('bateria', consultas['key_3'], limit=len(consultas[\"key_3\"]))\n",
    "matches_cargador_3 = process.extract('cargador', consultas['key_3'], limit=len(consultas[\"key_3\"]))\n",
    "matches_fundas_3 = process.extract('fundas', consultas['key_3'], limit=len(consultas[\"key_3\"]))\n",
    "matches_diademas_3 = process.extract('diademas', consultas['key_3'], limit=len(consultas[\"key_3\"]))\n",
    "matches_parlante_3 = process.extract('parlante', consultas['key_3'], limit=len(consultas[\"key_3\"]))\n",
    "matches_altavoz_3 = process.extract('altavoz', consultas['key_3'], limit=len(consultas[\"key_3\"]))\n",
    "matches_estereo_3 = process.extract('estereo', consultas['key_3'], limit=len(consultas[\"key_3\"]))\n",
    "matches_microfono_3 = process.extract('microfono', consultas['key_3'], limit=len(consultas[\"key_3\"]))\n",
    "matches_inalambricos_3 = process.extract('inalambricos', consultas['key_3'], limit=len(consultas[\"key_3\"]))\n",
    "matches_5_3 = process.extract('5', consultas['key_3'], limit=len(consultas[\"key_3\"]))\n",
    "matches_pines_3 = process.extract('pin', consultas['key_3'], limit=len(consultas[\"key_3\"]))\n",
    "matches_cable_3 = process.extract('cable', consultas['key_3'], limit=len(consultas[\"key_3\"]))\n",
    "matches_2_4_3 = process.extract('2.4', consultas['key_3'], limit=len(consultas[\"key_3\"]))\n",
    "matches_amperios_3 = process.extract('amperios', consultas['key_3'], limit=len(consultas[\"key_3\"]))\n",
    "matches_electronicos_3 = process.extract('electronicos', consultas['key_3'], limit=len(consultas[\"key_3\"]))\n",
    "\n",
    "# Iterate through the list of matches to italian\n",
    "for match in matches_3:\n",
    "  # Check whether the similarity score is greater than or equal to 80\n",
    "  if match[1] >= 80:\n",
    "    # Select all rows where the cuisine_type is spelled this way, and set them to the correct cuisine\n",
    "    consultas.loc[consultas[\"key_3\"] == match[0],\"key_3\"]= \"audifonos\"\n",
    "for match in matches_att_3:\n",
    "  # Check whether the similarity score is greater than or equal to 80\n",
    "  if match[1] >= 86:\n",
    "    # Select all rows where the cuisine_type is spelled this way, and set them to the correct cuisine\n",
    "    consultas.loc[consultas[\"key_3\"] == match[0],\"key_3\"]= \"at&t\"\n",
    "\n",
    "for match in matches_auriculares_3:\n",
    "  # Check whether the similarity score is greater than or equal to 80\n",
    "  if match[1] >= 80:\n",
    "    # Select all rows where the cuisine_type is spelled this way, and set them to the correct cuisine\n",
    "    consultas.loc[consultas[\"key_3\"] == match[0],\"key_3\"]= \"auriculares\"\n",
    "for match in matches_bateria_3:\n",
    "  # Check whether the similarity score is greater than or equal to 80\n",
    "  if match[1] >= 91:\n",
    "    # Select all rows where the cuisine_type is spelled this way, and set them to the correct cuisine\n",
    "    consultas.loc[consultas[\"key_3\"] == match[0],\"key_3\"]= \"bateria\"\n",
    "for match in matches_cargador_3:\n",
    "  # Check whether the similarity score is greater than or equal to 80\n",
    "  if match[1] >= 80:\n",
    "    # Select all rows where the cuisine_type is spelled this way, and set them to the correct cuisine\n",
    "    consultas.loc[consultas[\"key_3\"] == match[0],\"key_3\"]= \"cargador\"\n",
    "for match in matches_diademas_3:\n",
    "  # Check whether the similarity score is greater than or equal to 80\n",
    "  if match[1] >= 73:\n",
    "    # Select all rows where the cuisine_type is spelled this way, and set them to the correct cuisine\n",
    "    consultas.loc[consultas[\"key_3\"] == match[0],\"key_3\"]= \"diademas\"\n",
    "for match in matches_fundas_3:\n",
    "  # Check whether the similarity score is greater than or equal to 80\n",
    "  if match[1] >= 80:\n",
    "    # Select all rows where the cuisine_type is spelled this way, and set them to the correct cuisine\n",
    "    consultas.loc[consultas[\"key_3\"] == match[0],\"key_3\"]= \"fundas\"\n",
    "for match in matches_parlante_3:\n",
    "  # Check whether the similarity score is greater than or equal to 80\n",
    "  if match[1] >= 80:\n",
    "    # Select all rows where the cuisine_type is spelled this way, and set them to the correct cuisine\n",
    "    consultas.loc[consultas[\"key_3\"] == match[0],\"key_3\"]= \"parlantes\"\n",
    "for match in matches_altavoz_3:\n",
    "  # Check whether the similarity score is greater than or equal to 80\n",
    "  if match[1] >= 80:\n",
    "    # Select all rows where the cuisine_type is spelled this way, and set them to the correct cuisine\n",
    "    consultas.loc[consultas[\"key_3\"] == match[0],\"key_3\"]= \"altavoz\"\n",
    "for match in matches_estereo_3:\n",
    "  # Check whether the similarity score is greater than or equal to 80\n",
    "  if match[1] >= 80:\n",
    "    # Select all rows where the cuisine_type is spelled this way, and set them to the correct cuisine\n",
    "    consultas.loc[consultas[\"key_3\"] == match[0],\"key_3\"]= \"estereo\"\n",
    "for match in matches_microfono_3:\n",
    "  # Check whether the similarity score is greater than or equal to 80\n",
    "  if match[1] >= 94:\n",
    "    # Select all rows where the cuisine_type is spelled this way, and set them to the correct cuisine\n",
    "    consultas.loc[consultas[\"key_3\"] == match[0],\"key_3\"]= \"microfono\"\n",
    "for match in matches_inalambricos_3:\n",
    "  # Check whether the similarity score is greater than or equal to 80\n",
    "  if match[1] >= 80:\n",
    "    # Select all rows where the cuisine_type is spelled this way, and set them to the correct cuisine\n",
    "    consultas.loc[consultas[\"key_3\"] == match[0],\"key_3\"]= \"inalambrico\"\n",
    "for match in matches_5_3:\n",
    "    if match[1] >= 90:\n",
    "        consultas.loc[consultas[\"key_3\"]== match[0],\"key_3\"] = \"5s\"\n",
    "for match in matches_pines_3:\n",
    "    if match[1] >= 67:\n",
    "        consultas.loc[consultas[\"key_3\"]== match[0],\"key_3\"] = \"pin\"\n",
    "\n",
    "for match in matches_cable_3:\n",
    "    if match[1] >= 91:\n",
    "        consultas.loc[consultas[\"key_3\"]== match[0],\"key_3\"] = \"cable\"\n",
    "\n",
    "for match in matches_2_4_3:\n",
    "    if match[1] >= 86:\n",
    "        consultas.loc[consultas[\"key_3\"]== match[0],\"key_3\"] = \"2.4a\"\n",
    "\n",
    "for match in matches_amperios_3:\n",
    "    if match[1] >= 86:\n",
    "        consultas.loc[consultas[\"key_3\"]== match[0],\"key_3\"] = \"amperios\"\n",
    "for match in matches_electronicos_3:\n",
    "    if match[1] >= 86:\n",
    "        consultas.loc[consultas[\"key_3\"]== match[0],\"key_3\"] = \"electronicos\"\n"
   ]
  },
  {
   "cell_type": "code",
   "execution_count": 10,
   "metadata": {},
   "outputs": [
    {
     "output_type": "stream",
     "name": "stdout",
     "text": [
      "86\n39\n[nan 'cargador' '5s' 'fundas' 'amperios' 'iphone' 'conductores'\n 'audifonos' 'inalambrico' 'automovil' 'microfono' 'portatil'\n 'sincronización' 'accesorios' 'samsung' 'bluetooth' 'aluminio' 'estereo'\n 'galaxy' 'portátil' 'usb' 'volumen' '2.4a' 'cable' 'at&t' '&' 'control'\n 'tipo' 'micro' 'aislamiento' 's4' 'pin' 'doble' 'to' 'trenzado'\n 'diademas' '30' 'y' 'auriculares']\n"
     ]
    }
   ],
   "source": [
    "print(fuzz.WRatio(\"2.4\",\"2.4a\"))\n",
    "\n",
    "print(len(consultas[\"key_3\"].unique()))\n",
    "print(consultas[\"key_3\"].unique())"
   ]
  },
  {
   "cell_type": "code",
   "execution_count": 11,
   "metadata": {},
   "outputs": [
    {
     "output_type": "execute_result",
     "data": {
      "text/plain": [
       "          key_1       key_2        key_3  Clics  Impresiones     CTR  Posición\n",
       "0          at&t    colombia          NaN      1           16   6.25%      5.94\n",
       "1          2.4a        at&t     cargador      1            6  16.67%      6.00\n",
       "2    accesorios      iphone           5s      0           54      0%     16.54\n",
       "3    accesorios      iphone           5s      0           48      0%     16.19\n",
       "4       bateria      iphone           5s      0           48      0%     45.98\n",
       "..          ...         ...          ...    ...          ...     ...       ...\n",
       "157    conducir         con  auriculares      0            1      0%     83.00\n",
       "158        at&t       cable          NaN      0            1      0%     84.00\n",
       "159    cargador  plataforma          NaN      0            1      0%     86.00\n",
       "160        tipo    diademas     cargador      0            1      0%     91.00\n",
       "161        hp10         NaN          NaN      0            1      0%     94.00\n",
       "\n",
       "[162 rows x 7 columns]"
      ],
      "text/html": "<div>\n<style scoped>\n    .dataframe tbody tr th:only-of-type {\n        vertical-align: middle;\n    }\n\n    .dataframe tbody tr th {\n        vertical-align: top;\n    }\n\n    .dataframe thead th {\n        text-align: right;\n    }\n</style>\n<table border=\"1\" class=\"dataframe\">\n  <thead>\n    <tr style=\"text-align: right;\">\n      <th></th>\n      <th>key_1</th>\n      <th>key_2</th>\n      <th>key_3</th>\n      <th>Clics</th>\n      <th>Impresiones</th>\n      <th>CTR</th>\n      <th>Posición</th>\n    </tr>\n  </thead>\n  <tbody>\n    <tr>\n      <th>0</th>\n      <td>at&amp;t</td>\n      <td>colombia</td>\n      <td>NaN</td>\n      <td>1</td>\n      <td>16</td>\n      <td>6.25%</td>\n      <td>5.94</td>\n    </tr>\n    <tr>\n      <th>1</th>\n      <td>2.4a</td>\n      <td>at&amp;t</td>\n      <td>cargador</td>\n      <td>1</td>\n      <td>6</td>\n      <td>16.67%</td>\n      <td>6.00</td>\n    </tr>\n    <tr>\n      <th>2</th>\n      <td>accesorios</td>\n      <td>iphone</td>\n      <td>5s</td>\n      <td>0</td>\n      <td>54</td>\n      <td>0%</td>\n      <td>16.54</td>\n    </tr>\n    <tr>\n      <th>3</th>\n      <td>accesorios</td>\n      <td>iphone</td>\n      <td>5s</td>\n      <td>0</td>\n      <td>48</td>\n      <td>0%</td>\n      <td>16.19</td>\n    </tr>\n    <tr>\n      <th>4</th>\n      <td>bateria</td>\n      <td>iphone</td>\n      <td>5s</td>\n      <td>0</td>\n      <td>48</td>\n      <td>0%</td>\n      <td>45.98</td>\n    </tr>\n    <tr>\n      <th>...</th>\n      <td>...</td>\n      <td>...</td>\n      <td>...</td>\n      <td>...</td>\n      <td>...</td>\n      <td>...</td>\n      <td>...</td>\n    </tr>\n    <tr>\n      <th>157</th>\n      <td>conducir</td>\n      <td>con</td>\n      <td>auriculares</td>\n      <td>0</td>\n      <td>1</td>\n      <td>0%</td>\n      <td>83.00</td>\n    </tr>\n    <tr>\n      <th>158</th>\n      <td>at&amp;t</td>\n      <td>cable</td>\n      <td>NaN</td>\n      <td>0</td>\n      <td>1</td>\n      <td>0%</td>\n      <td>84.00</td>\n    </tr>\n    <tr>\n      <th>159</th>\n      <td>cargador</td>\n      <td>plataforma</td>\n      <td>NaN</td>\n      <td>0</td>\n      <td>1</td>\n      <td>0%</td>\n      <td>86.00</td>\n    </tr>\n    <tr>\n      <th>160</th>\n      <td>tipo</td>\n      <td>diademas</td>\n      <td>cargador</td>\n      <td>0</td>\n      <td>1</td>\n      <td>0%</td>\n      <td>91.00</td>\n    </tr>\n    <tr>\n      <th>161</th>\n      <td>hp10</td>\n      <td>NaN</td>\n      <td>NaN</td>\n      <td>0</td>\n      <td>1</td>\n      <td>0%</td>\n      <td>94.00</td>\n    </tr>\n  </tbody>\n</table>\n<p>162 rows × 7 columns</p>\n</div>"
     },
     "metadata": {},
     "execution_count": 11
    }
   ],
   "source": [
    "consultas\n"
   ]
  },
  {
   "cell_type": "code",
   "execution_count": 71,
   "metadata": {},
   "outputs": [
    {
     "output_type": "stream",
     "name": "stderr",
     "text": [
      "/Library/Frameworks/Python.framework/Versions/3.9/lib/python3.9/site-packages/seaborn/_decorators.py:36: FutureWarning: Pass the following variables as keyword args: x, y. From version 0.12, the only valid positional argument will be `data`, and passing other arguments without an explicit keyword will result in an error or misinterpretation.\n  warnings.warn(\n"
     ]
    },
    {
     "output_type": "display_data",
     "data": {
      "text/plain": "<Figure size 432x288 with 1 Axes>",
      "image/svg+xml": "<?xml version=\"1.0\" encoding=\"utf-8\" standalone=\"no\"?>\n<!DOCTYPE svg PUBLIC \"-//W3C//DTD SVG 1.1//EN\"\n  \"http://www.w3.org/Graphics/SVG/1.1/DTD/svg11.dtd\">\n<!-- Created with matplotlib (https://matplotlib.org/) -->\n<svg height=\"262.19625pt\" version=\"1.1\" viewBox=\"0 0 388.965625 262.19625\" width=\"388.965625pt\" xmlns=\"http://www.w3.org/2000/svg\" xmlns:xlink=\"http://www.w3.org/1999/xlink\">\n <metadata>\n  <rdf:RDF xmlns:cc=\"http://creativecommons.org/ns#\" xmlns:dc=\"http://purl.org/dc/elements/1.1/\" xmlns:rdf=\"http://www.w3.org/1999/02/22-rdf-syntax-ns#\">\n   <cc:Work>\n    <dc:type rdf:resource=\"http://purl.org/dc/dcmitype/StillImage\"/>\n    <dc:date>2021-03-08T21:58:31.958550</dc:date>\n    <dc:format>image/svg+xml</dc:format>\n    <dc:creator>\n     <cc:Agent>\n      <dc:title>Matplotlib v3.3.3, https://matplotlib.org/</dc:title>\n     </cc:Agent>\n    </dc:creator>\n   </cc:Work>\n  </rdf:RDF>\n </metadata>\n <defs>\n  <style type=\"text/css\">*{stroke-linecap:butt;stroke-linejoin:round;}</style>\n </defs>\n <g id=\"figure_1\">\n  <g id=\"patch_1\">\n   <path d=\"M 0 262.19625 \nL 388.965625 262.19625 \nL 388.965625 0 \nL 0 0 \nz\n\" style=\"fill:none;\"/>\n  </g>\n  <g id=\"axes_1\">\n   <g id=\"patch_2\">\n    <path d=\"M 46.965625 224.64 \nL 381.765625 224.64 \nL 381.765625 7.2 \nL 46.965625 7.2 \nz\n\" style=\"fill:#ffffff;\"/>\n   </g>\n   <g id=\"PathCollection_1\">\n    <defs>\n     <path d=\"M 0 3 \nC 0.795609 3 1.55874 2.683901 2.12132 2.12132 \nC 2.683901 1.55874 3 0.795609 3 0 \nC 3 -0.795609 2.683901 -1.55874 2.12132 -2.12132 \nC 1.55874 -2.683901 0.795609 -3 0 -3 \nC -0.795609 -3 -1.55874 -2.683901 -2.12132 -2.12132 \nC -2.683901 -1.55874 -3 -0.795609 -3 0 \nC -3 0.795609 -2.683901 1.55874 -2.12132 2.12132 \nC -1.55874 2.683901 -0.795609 3 0 3 \nz\n\" id=\"m43bfdc39fb\" style=\"stroke:#ffffff;stroke-width:0.48;\"/>\n    </defs>\n    <g clip-path=\"url(#pcd364c5980)\">\n     <use style=\"fill:#1f77b4;stroke:#ffffff;stroke-width:0.48;\" x=\"148.324459\" xlink:href=\"#m43bfdc39fb\" y=\"204.68932\"/>\n     <use style=\"fill:#1f77b4;stroke:#ffffff;stroke-width:0.48;\" x=\"90.897357\" xlink:href=\"#m43bfdc39fb\" y=\"204.567048\"/>\n     <use style=\"fill:#1f77b4;stroke:#ffffff;stroke-width:0.48;\" x=\"366.547443\" xlink:href=\"#m43bfdc39fb\" y=\"183.08797\"/>\n     <use style=\"fill:#1f77b4;stroke:#ffffff;stroke-width:0.48;\" x=\"332.091182\" xlink:href=\"#m43bfdc39fb\" y=\"183.801222\"/>\n     <use style=\"fill:#1f77b4;stroke:#ffffff;stroke-width:0.48;\" x=\"332.091182\" xlink:href=\"#m43bfdc39fb\" y=\"123.093278\"/>\n     <use style=\"fill:#1f77b4;stroke:#ffffff;stroke-width:0.48;\" x=\"309.120342\" xlink:href=\"#m43bfdc39fb\" y=\"124.295618\"/>\n     <use style=\"fill:#1f77b4;stroke:#ffffff;stroke-width:0.48;\" x=\"291.892212\" xlink:href=\"#m43bfdc39fb\" y=\"138.153087\"/>\n     <use style=\"fill:#1f77b4;stroke:#ffffff;stroke-width:0.48;\" x=\"286.149502\" xlink:href=\"#m43bfdc39fb\" y=\"139.905649\"/>\n     <use style=\"fill:#1f77b4;stroke:#ffffff;stroke-width:0.48;\" x=\"274.664081\" xlink:href=\"#m43bfdc39fb\" y=\"204.24099\"/>\n     <use style=\"fill:#1f77b4;stroke:#ffffff;stroke-width:0.48;\" x=\"274.664081\" xlink:href=\"#m43bfdc39fb\" y=\"119.893833\"/>\n     <use style=\"fill:#1f77b4;stroke:#ffffff;stroke-width:0.48;\" x=\"268.921371\" xlink:href=\"#m43bfdc39fb\" y=\"177.585739\"/>\n     <use style=\"fill:#1f77b4;stroke:#ffffff;stroke-width:0.48;\" x=\"257.435951\" xlink:href=\"#m43bfdc39fb\" y=\"203.874174\"/>\n     <use style=\"fill:#1f77b4;stroke:#ffffff;stroke-width:0.48;\" x=\"240.207821\" xlink:href=\"#m43bfdc39fb\" y=\"203.03865\"/>\n     <use style=\"fill:#1f77b4;stroke:#ffffff;stroke-width:0.48;\" x=\"228.7224\" xlink:href=\"#m43bfdc39fb\" y=\"109.398838\"/>\n     <use style=\"fill:#1f77b4;stroke:#ffffff;stroke-width:0.48;\" x=\"222.97969\" xlink:href=\"#m43bfdc39fb\" y=\"79.910958\"/>\n     <use style=\"fill:#1f77b4;stroke:#ffffff;stroke-width:0.48;\" x=\"217.23698\" xlink:href=\"#m43bfdc39fb\" y=\"205.158028\"/>\n     <use style=\"fill:#1f77b4;stroke:#ffffff;stroke-width:0.48;\" x=\"217.23698\" xlink:href=\"#m43bfdc39fb\" y=\"179.684739\"/>\n     <use style=\"fill:#1f77b4;stroke:#ffffff;stroke-width:0.48;\" x=\"211.49427\" xlink:href=\"#m43bfdc39fb\" y=\"29.698009\"/>\n     <use style=\"fill:#1f77b4;stroke:#ffffff;stroke-width:0.48;\" x=\"154.067169\" xlink:href=\"#m43bfdc39fb\" y=\"200.124506\"/>\n     <use style=\"fill:#1f77b4;stroke:#ffffff;stroke-width:0.48;\" x=\"119.610908\" xlink:href=\"#m43bfdc39fb\" y=\"140.843067\"/>\n     <use style=\"fill:#1f77b4;stroke:#ffffff;stroke-width:0.48;\" x=\"108.125488\" xlink:href=\"#m43bfdc39fb\" y=\"205.708251\"/>\n     <use style=\"fill:#1f77b4;stroke:#ffffff;stroke-width:0.48;\" x=\"108.125488\" xlink:href=\"#m43bfdc39fb\" y=\"157.696195\"/>\n     <use style=\"fill:#1f77b4;stroke:#ffffff;stroke-width:0.48;\" x=\"108.125488\" xlink:href=\"#m43bfdc39fb\" y=\"133.241837\"/>\n     <use style=\"fill:#1f77b4;stroke:#ffffff;stroke-width:0.48;\" x=\"102.382778\" xlink:href=\"#m43bfdc39fb\" y=\"141.902755\"/>\n     <use style=\"fill:#1f77b4;stroke:#ffffff;stroke-width:0.48;\" x=\"96.640068\" xlink:href=\"#m43bfdc39fb\" y=\"199.329739\"/>\n     <use style=\"fill:#1f77b4;stroke:#ffffff;stroke-width:0.48;\" x=\"96.640068\" xlink:href=\"#m43bfdc39fb\" y=\"189.140424\"/>\n     <use style=\"fill:#1f77b4;stroke:#ffffff;stroke-width:0.48;\" x=\"96.640068\" xlink:href=\"#m43bfdc39fb\" y=\"182.150553\"/>\n     <use style=\"fill:#1f77b4;stroke:#ffffff;stroke-width:0.48;\" x=\"96.640068\" xlink:href=\"#m43bfdc39fb\" y=\"181.559573\"/>\n     <use style=\"fill:#1f77b4;stroke:#ffffff;stroke-width:0.48;\" x=\"96.640068\" xlink:href=\"#m43bfdc39fb\" y=\"162.362902\"/>\n     <use style=\"fill:#1f77b4;stroke:#ffffff;stroke-width:0.48;\" x=\"96.640068\" xlink:href=\"#m43bfdc39fb\" y=\"74.143805\"/>\n     <use style=\"fill:#1f77b4;stroke:#ffffff;stroke-width:0.48;\" x=\"90.897357\" xlink:href=\"#m43bfdc39fb\" y=\"173.326605\"/>\n     <use style=\"fill:#1f77b4;stroke:#ffffff;stroke-width:0.48;\" x=\"90.897357\" xlink:href=\"#m43bfdc39fb\" y=\"134.933263\"/>\n     <use style=\"fill:#1f77b4;stroke:#ffffff;stroke-width:0.48;\" x=\"90.897357\" xlink:href=\"#m43bfdc39fb\" y=\"108.441042\"/>\n     <use style=\"fill:#1f77b4;stroke:#ffffff;stroke-width:0.48;\" x=\"90.897357\" xlink:href=\"#m43bfdc39fb\" y=\"85.005616\"/>\n     <use style=\"fill:#1f77b4;stroke:#ffffff;stroke-width:0.48;\" x=\"85.154647\" xlink:href=\"#m43bfdc39fb\" y=\"211.903355\"/>\n     <use style=\"fill:#1f77b4;stroke:#ffffff;stroke-width:0.48;\" x=\"85.154647\" xlink:href=\"#m43bfdc39fb\" y=\"209.865492\"/>\n     <use style=\"fill:#1f77b4;stroke:#ffffff;stroke-width:0.48;\" x=\"85.154647\" xlink:href=\"#m43bfdc39fb\" y=\"206.604911\"/>\n     <use style=\"fill:#1f77b4;stroke:#ffffff;stroke-width:0.48;\" x=\"85.154647\" xlink:href=\"#m43bfdc39fb\" y=\"200.491321\"/>\n     <use style=\"fill:#1f77b4;stroke:#ffffff;stroke-width:0.48;\" x=\"85.154647\" xlink:href=\"#m43bfdc39fb\" y=\"143.838725\"/>\n     <use style=\"fill:#1f77b4;stroke:#ffffff;stroke-width:0.48;\" x=\"85.154647\" xlink:href=\"#m43bfdc39fb\" y=\"123.460094\"/>\n     <use style=\"fill:#1f77b4;stroke:#ffffff;stroke-width:0.48;\" x=\"85.154647\" xlink:href=\"#m43bfdc39fb\" y=\"99.005736\"/>\n     <use style=\"fill:#1f77b4;stroke:#ffffff;stroke-width:0.48;\" x=\"85.154647\" xlink:href=\"#m43bfdc39fb\" y=\"74.551378\"/>\n     <use style=\"fill:#1f77b4;stroke:#ffffff;stroke-width:0.48;\" x=\"79.411937\" xlink:href=\"#m43bfdc39fb\" y=\"213.737432\"/>\n     <use style=\"fill:#1f77b4;stroke:#ffffff;stroke-width:0.48;\" x=\"79.411937\" xlink:href=\"#m43bfdc39fb\" y=\"208.133308\"/>\n     <use style=\"fill:#1f77b4;stroke:#ffffff;stroke-width:0.48;\" x=\"79.411937\" xlink:href=\"#m43bfdc39fb\" y=\"203.03865\"/>\n     <use style=\"fill:#1f77b4;stroke:#ffffff;stroke-width:0.48;\" x=\"79.411937\" xlink:href=\"#m43bfdc39fb\" y=\"202.019719\"/>\n     <use style=\"fill:#1f77b4;stroke:#ffffff;stroke-width:0.48;\" x=\"79.411937\" xlink:href=\"#m43bfdc39fb\" y=\"194.887198\"/>\n     <use style=\"fill:#1f77b4;stroke:#ffffff;stroke-width:0.48;\" x=\"79.411937\" xlink:href=\"#m43bfdc39fb\" y=\"162.790853\"/>\n     <use style=\"fill:#1f77b4;stroke:#ffffff;stroke-width:0.48;\" x=\"79.411937\" xlink:href=\"#m43bfdc39fb\" y=\"160.243524\"/>\n     <use style=\"fill:#1f77b4;stroke:#ffffff;stroke-width:0.48;\" x=\"79.411937\" xlink:href=\"#m43bfdc39fb\" y=\"127.128247\"/>\n     <use style=\"fill:#1f77b4;stroke:#ffffff;stroke-width:0.48;\" x=\"79.411937\" xlink:href=\"#m43bfdc39fb\" y=\"80.76686\"/>\n     <use style=\"fill:#1f77b4;stroke:#ffffff;stroke-width:0.48;\" x=\"79.411937\" xlink:href=\"#m43bfdc39fb\" y=\"41.537994\"/>\n     <use style=\"fill:#1f77b4;stroke:#ffffff;stroke-width:0.48;\" x=\"73.669227\" xlink:href=\"#m43bfdc39fb\" y=\"199.125953\"/>\n     <use style=\"fill:#1f77b4;stroke:#ffffff;stroke-width:0.48;\" x=\"73.669227\" xlink:href=\"#m43bfdc39fb\" y=\"197.780963\"/>\n     <use style=\"fill:#1f77b4;stroke:#ffffff;stroke-width:0.48;\" x=\"73.669227\" xlink:href=\"#m43bfdc39fb\" y=\"187.591648\"/>\n     <use style=\"fill:#1f77b4;stroke:#ffffff;stroke-width:0.48;\" x=\"73.669227\" xlink:href=\"#m43bfdc39fb\" y=\"146.141511\"/>\n     <use style=\"fill:#1f77b4;stroke:#ffffff;stroke-width:0.48;\" x=\"73.669227\" xlink:href=\"#m43bfdc39fb\" y=\"140.720795\"/>\n     <use style=\"fill:#1f77b4;stroke:#ffffff;stroke-width:0.48;\" x=\"73.669227\" xlink:href=\"#m43bfdc39fb\" y=\"90.44671\"/>\n     <use style=\"fill:#1f77b4;stroke:#ffffff;stroke-width:0.48;\" x=\"73.669227\" xlink:href=\"#m43bfdc39fb\" y=\"17.083636\"/>\n     <use style=\"fill:#1f77b4;stroke:#ffffff;stroke-width:0.48;\" x=\"67.926517\" xlink:href=\"#m43bfdc39fb\" y=\"208.642774\"/>\n     <use style=\"fill:#1f77b4;stroke:#ffffff;stroke-width:0.48;\" x=\"67.926517\" xlink:href=\"#m43bfdc39fb\" y=\"199.47239\"/>\n     <use style=\"fill:#1f77b4;stroke:#ffffff;stroke-width:0.48;\" x=\"67.926517\" xlink:href=\"#m43bfdc39fb\" y=\"198.453458\"/>\n     <use style=\"fill:#1f77b4;stroke:#ffffff;stroke-width:0.48;\" x=\"67.926517\" xlink:href=\"#m43bfdc39fb\" y=\"196.415595\"/>\n     <use style=\"fill:#1f77b4;stroke:#ffffff;stroke-width:0.48;\" x=\"67.926517\" xlink:href=\"#m43bfdc39fb\" y=\"189.283074\"/>\n     <use style=\"fill:#1f77b4;stroke:#ffffff;stroke-width:0.48;\" x=\"67.926517\" xlink:href=\"#m43bfdc39fb\" y=\"184.188416\"/>\n     <use style=\"fill:#1f77b4;stroke:#ffffff;stroke-width:0.48;\" x=\"67.926517\" xlink:href=\"#m43bfdc39fb\" y=\"184.188416\"/>\n     <use style=\"fill:#1f77b4;stroke:#ffffff;stroke-width:0.48;\" x=\"67.926517\" xlink:href=\"#m43bfdc39fb\" y=\"173.9991\"/>\n     <use style=\"fill:#1f77b4;stroke:#ffffff;stroke-width:0.48;\" x=\"67.926517\" xlink:href=\"#m43bfdc39fb\" y=\"169.923374\"/>\n     <use style=\"fill:#1f77b4;stroke:#ffffff;stroke-width:0.48;\" x=\"67.926517\" xlink:href=\"#m43bfdc39fb\" y=\"163.809784\"/>\n     <use style=\"fill:#1f77b4;stroke:#ffffff;stroke-width:0.48;\" x=\"67.926517\" xlink:href=\"#m43bfdc39fb\" y=\"158.715127\"/>\n     <use style=\"fill:#1f77b4;stroke:#ffffff;stroke-width:0.48;\" x=\"67.926517\" xlink:href=\"#m43bfdc39fb\" y=\"154.6394\"/>\n     <use style=\"fill:#1f77b4;stroke:#ffffff;stroke-width:0.48;\" x=\"67.926517\" xlink:href=\"#m43bfdc39fb\" y=\"149.544742\"/>\n     <use style=\"fill:#1f77b4;stroke:#ffffff;stroke-width:0.48;\" x=\"67.926517\" xlink:href=\"#m43bfdc39fb\" y=\"137.317563\"/>\n     <use style=\"fill:#1f77b4;stroke:#ffffff;stroke-width:0.48;\" x=\"67.926517\" xlink:href=\"#m43bfdc39fb\" y=\"131.203974\"/>\n     <use style=\"fill:#1f77b4;stroke:#ffffff;stroke-width:0.48;\" x=\"67.926517\" xlink:href=\"#m43bfdc39fb\" y=\"127.128247\"/>\n     <use style=\"fill:#1f77b4;stroke:#ffffff;stroke-width:0.48;\" x=\"67.926517\" xlink:href=\"#m43bfdc39fb\" y=\"122.03359\"/>\n     <use style=\"fill:#1f77b4;stroke:#ffffff;stroke-width:0.48;\" x=\"67.926517\" xlink:href=\"#m43bfdc39fb\" y=\"101.654958\"/>\n     <use style=\"fill:#1f77b4;stroke:#ffffff;stroke-width:0.48;\" x=\"67.926517\" xlink:href=\"#m43bfdc39fb\" y=\"92.484574\"/>\n     <use style=\"fill:#1f77b4;stroke:#ffffff;stroke-width:0.48;\" x=\"67.926517\" xlink:href=\"#m43bfdc39fb\" y=\"87.389916\"/>\n     <use style=\"fill:#1f77b4;stroke:#ffffff;stroke-width:0.48;\" x=\"67.926517\" xlink:href=\"#m43bfdc39fb\" y=\"41.537994\"/>\n     <use style=\"fill:#1f77b4;stroke:#ffffff;stroke-width:0.48;\" x=\"67.926517\" xlink:href=\"#m43bfdc39fb\" y=\"33.386542\"/>\n     <use style=\"fill:#1f77b4;stroke:#ffffff;stroke-width:0.48;\" x=\"67.926517\" xlink:href=\"#m43bfdc39fb\" y=\"20.140431\"/>\n     <use style=\"fill:#1f77b4;stroke:#ffffff;stroke-width:0.48;\" x=\"62.183807\" xlink:href=\"#m43bfdc39fb\" y=\"214.756364\"/>\n     <use style=\"fill:#1f77b4;stroke:#ffffff;stroke-width:0.48;\" x=\"62.183807\" xlink:href=\"#m43bfdc39fb\" y=\"212.7185\"/>\n     <use style=\"fill:#1f77b4;stroke:#ffffff;stroke-width:0.48;\" x=\"62.183807\" xlink:href=\"#m43bfdc39fb\" y=\"212.7185\"/>\n     <use style=\"fill:#1f77b4;stroke:#ffffff;stroke-width:0.48;\" x=\"62.183807\" xlink:href=\"#m43bfdc39fb\" y=\"210.680637\"/>\n     <use style=\"fill:#1f77b4;stroke:#ffffff;stroke-width:0.48;\" x=\"62.183807\" xlink:href=\"#m43bfdc39fb\" y=\"210.680637\"/>\n     <use style=\"fill:#1f77b4;stroke:#ffffff;stroke-width:0.48;\" x=\"62.183807\" xlink:href=\"#m43bfdc39fb\" y=\"208.642774\"/>\n     <use style=\"fill:#1f77b4;stroke:#ffffff;stroke-width:0.48;\" x=\"62.183807\" xlink:href=\"#m43bfdc39fb\" y=\"208.642774\"/>\n     <use style=\"fill:#1f77b4;stroke:#ffffff;stroke-width:0.48;\" x=\"62.183807\" xlink:href=\"#m43bfdc39fb\" y=\"206.604911\"/>\n     <use style=\"fill:#1f77b4;stroke:#ffffff;stroke-width:0.48;\" x=\"62.183807\" xlink:href=\"#m43bfdc39fb\" y=\"204.567048\"/>\n     <use style=\"fill:#1f77b4;stroke:#ffffff;stroke-width:0.48;\" x=\"62.183807\" xlink:href=\"#m43bfdc39fb\" y=\"202.529185\"/>\n     <use style=\"fill:#1f77b4;stroke:#ffffff;stroke-width:0.48;\" x=\"62.183807\" xlink:href=\"#m43bfdc39fb\" y=\"198.453458\"/>\n     <use style=\"fill:#1f77b4;stroke:#ffffff;stroke-width:0.48;\" x=\"62.183807\" xlink:href=\"#m43bfdc39fb\" y=\"198.453458\"/>\n     <use style=\"fill:#1f77b4;stroke:#ffffff;stroke-width:0.48;\" x=\"62.183807\" xlink:href=\"#m43bfdc39fb\" y=\"198.453458\"/>\n     <use style=\"fill:#1f77b4;stroke:#ffffff;stroke-width:0.48;\" x=\"62.183807\" xlink:href=\"#m43bfdc39fb\" y=\"196.415595\"/>\n     <use style=\"fill:#1f77b4;stroke:#ffffff;stroke-width:0.48;\" x=\"62.183807\" xlink:href=\"#m43bfdc39fb\" y=\"196.415595\"/>\n     <use style=\"fill:#1f77b4;stroke:#ffffff;stroke-width:0.48;\" x=\"62.183807\" xlink:href=\"#m43bfdc39fb\" y=\"196.415595\"/>\n     <use style=\"fill:#1f77b4;stroke:#ffffff;stroke-width:0.48;\" x=\"62.183807\" xlink:href=\"#m43bfdc39fb\" y=\"196.415595\"/>\n     <use style=\"fill:#1f77b4;stroke:#ffffff;stroke-width:0.48;\" x=\"62.183807\" xlink:href=\"#m43bfdc39fb\" y=\"194.377732\"/>\n     <use style=\"fill:#1f77b4;stroke:#ffffff;stroke-width:0.48;\" x=\"62.183807\" xlink:href=\"#m43bfdc39fb\" y=\"194.377732\"/>\n     <use style=\"fill:#1f77b4;stroke:#ffffff;stroke-width:0.48;\" x=\"62.183807\" xlink:href=\"#m43bfdc39fb\" y=\"194.377732\"/>\n     <use style=\"fill:#1f77b4;stroke:#ffffff;stroke-width:0.48;\" x=\"62.183807\" xlink:href=\"#m43bfdc39fb\" y=\"192.339869\"/>\n     <use style=\"fill:#1f77b4;stroke:#ffffff;stroke-width:0.48;\" x=\"62.183807\" xlink:href=\"#m43bfdc39fb\" y=\"188.264142\"/>\n     <use style=\"fill:#1f77b4;stroke:#ffffff;stroke-width:0.48;\" x=\"62.183807\" xlink:href=\"#m43bfdc39fb\" y=\"182.150553\"/>\n     <use style=\"fill:#1f77b4;stroke:#ffffff;stroke-width:0.48;\" x=\"62.183807\" xlink:href=\"#m43bfdc39fb\" y=\"178.074827\"/>\n     <use style=\"fill:#1f77b4;stroke:#ffffff;stroke-width:0.48;\" x=\"62.183807\" xlink:href=\"#m43bfdc39fb\" y=\"178.074827\"/>\n     <use style=\"fill:#1f77b4;stroke:#ffffff;stroke-width:0.48;\" x=\"62.183807\" xlink:href=\"#m43bfdc39fb\" y=\"171.961237\"/>\n     <use style=\"fill:#1f77b4;stroke:#ffffff;stroke-width:0.48;\" x=\"62.183807\" xlink:href=\"#m43bfdc39fb\" y=\"165.847648\"/>\n     <use style=\"fill:#1f77b4;stroke:#ffffff;stroke-width:0.48;\" x=\"62.183807\" xlink:href=\"#m43bfdc39fb\" y=\"165.847648\"/>\n     <use style=\"fill:#1f77b4;stroke:#ffffff;stroke-width:0.48;\" x=\"62.183807\" xlink:href=\"#m43bfdc39fb\" y=\"157.696195\"/>\n     <use style=\"fill:#1f77b4;stroke:#ffffff;stroke-width:0.48;\" x=\"62.183807\" xlink:href=\"#m43bfdc39fb\" y=\"153.620469\"/>\n     <use style=\"fill:#1f77b4;stroke:#ffffff;stroke-width:0.48;\" x=\"62.183807\" xlink:href=\"#m43bfdc39fb\" y=\"153.620469\"/>\n     <use style=\"fill:#1f77b4;stroke:#ffffff;stroke-width:0.48;\" x=\"62.183807\" xlink:href=\"#m43bfdc39fb\" y=\"149.544742\"/>\n     <use style=\"fill:#1f77b4;stroke:#ffffff;stroke-width:0.48;\" x=\"62.183807\" xlink:href=\"#m43bfdc39fb\" y=\"143.431153\"/>\n     <use style=\"fill:#1f77b4;stroke:#ffffff;stroke-width:0.48;\" x=\"62.183807\" xlink:href=\"#m43bfdc39fb\" y=\"137.317563\"/>\n     <use style=\"fill:#1f77b4;stroke:#ffffff;stroke-width:0.48;\" x=\"62.183807\" xlink:href=\"#m43bfdc39fb\" y=\"135.2797\"/>\n     <use style=\"fill:#1f77b4;stroke:#ffffff;stroke-width:0.48;\" x=\"62.183807\" xlink:href=\"#m43bfdc39fb\" y=\"129.166111\"/>\n     <use style=\"fill:#1f77b4;stroke:#ffffff;stroke-width:0.48;\" x=\"62.183807\" xlink:href=\"#m43bfdc39fb\" y=\"127.128247\"/>\n     <use style=\"fill:#1f77b4;stroke:#ffffff;stroke-width:0.48;\" x=\"62.183807\" xlink:href=\"#m43bfdc39fb\" y=\"125.090384\"/>\n     <use style=\"fill:#1f77b4;stroke:#ffffff;stroke-width:0.48;\" x=\"62.183807\" xlink:href=\"#m43bfdc39fb\" y=\"123.052521\"/>\n     <use style=\"fill:#1f77b4;stroke:#ffffff;stroke-width:0.48;\" x=\"62.183807\" xlink:href=\"#m43bfdc39fb\" y=\"114.901068\"/>\n     <use style=\"fill:#1f77b4;stroke:#ffffff;stroke-width:0.48;\" x=\"62.183807\" xlink:href=\"#m43bfdc39fb\" y=\"112.863205\"/>\n     <use style=\"fill:#1f77b4;stroke:#ffffff;stroke-width:0.48;\" x=\"62.183807\" xlink:href=\"#m43bfdc39fb\" y=\"112.863205\"/>\n     <use style=\"fill:#1f77b4;stroke:#ffffff;stroke-width:0.48;\" x=\"62.183807\" xlink:href=\"#m43bfdc39fb\" y=\"108.787479\"/>\n     <use style=\"fill:#1f77b4;stroke:#ffffff;stroke-width:0.48;\" x=\"62.183807\" xlink:href=\"#m43bfdc39fb\" y=\"106.749616\"/>\n     <use style=\"fill:#1f77b4;stroke:#ffffff;stroke-width:0.48;\" x=\"62.183807\" xlink:href=\"#m43bfdc39fb\" y=\"106.749616\"/>\n     <use style=\"fill:#1f77b4;stroke:#ffffff;stroke-width:0.48;\" x=\"62.183807\" xlink:href=\"#m43bfdc39fb\" y=\"106.749616\"/>\n     <use style=\"fill:#1f77b4;stroke:#ffffff;stroke-width:0.48;\" x=\"62.183807\" xlink:href=\"#m43bfdc39fb\" y=\"104.711753\"/>\n     <use style=\"fill:#1f77b4;stroke:#ffffff;stroke-width:0.48;\" x=\"62.183807\" xlink:href=\"#m43bfdc39fb\" y=\"104.711753\"/>\n     <use style=\"fill:#1f77b4;stroke:#ffffff;stroke-width:0.48;\" x=\"62.183807\" xlink:href=\"#m43bfdc39fb\" y=\"104.711753\"/>\n     <use style=\"fill:#1f77b4;stroke:#ffffff;stroke-width:0.48;\" x=\"62.183807\" xlink:href=\"#m43bfdc39fb\" y=\"102.673889\"/>\n     <use style=\"fill:#1f77b4;stroke:#ffffff;stroke-width:0.48;\" x=\"62.183807\" xlink:href=\"#m43bfdc39fb\" y=\"102.673889\"/>\n     <use style=\"fill:#1f77b4;stroke:#ffffff;stroke-width:0.48;\" x=\"62.183807\" xlink:href=\"#m43bfdc39fb\" y=\"102.673889\"/>\n     <use style=\"fill:#1f77b4;stroke:#ffffff;stroke-width:0.48;\" x=\"62.183807\" xlink:href=\"#m43bfdc39fb\" y=\"96.5603\"/>\n     <use style=\"fill:#1f77b4;stroke:#ffffff;stroke-width:0.48;\" x=\"62.183807\" xlink:href=\"#m43bfdc39fb\" y=\"96.5603\"/>\n     <use style=\"fill:#1f77b4;stroke:#ffffff;stroke-width:0.48;\" x=\"62.183807\" xlink:href=\"#m43bfdc39fb\" y=\"96.5603\"/>\n     <use style=\"fill:#1f77b4;stroke:#ffffff;stroke-width:0.48;\" x=\"62.183807\" xlink:href=\"#m43bfdc39fb\" y=\"96.5603\"/>\n     <use style=\"fill:#1f77b4;stroke:#ffffff;stroke-width:0.48;\" x=\"62.183807\" xlink:href=\"#m43bfdc39fb\" y=\"90.44671\"/>\n     <use style=\"fill:#1f77b4;stroke:#ffffff;stroke-width:0.48;\" x=\"62.183807\" xlink:href=\"#m43bfdc39fb\" y=\"88.408847\"/>\n     <use style=\"fill:#1f77b4;stroke:#ffffff;stroke-width:0.48;\" x=\"62.183807\" xlink:href=\"#m43bfdc39fb\" y=\"88.408847\"/>\n     <use style=\"fill:#1f77b4;stroke:#ffffff;stroke-width:0.48;\" x=\"62.183807\" xlink:href=\"#m43bfdc39fb\" y=\"88.408847\"/>\n     <use style=\"fill:#1f77b4;stroke:#ffffff;stroke-width:0.48;\" x=\"62.183807\" xlink:href=\"#m43bfdc39fb\" y=\"86.370984\"/>\n     <use style=\"fill:#1f77b4;stroke:#ffffff;stroke-width:0.48;\" x=\"62.183807\" xlink:href=\"#m43bfdc39fb\" y=\"84.333121\"/>\n     <use style=\"fill:#1f77b4;stroke:#ffffff;stroke-width:0.48;\" x=\"62.183807\" xlink:href=\"#m43bfdc39fb\" y=\"84.333121\"/>\n     <use style=\"fill:#1f77b4;stroke:#ffffff;stroke-width:0.48;\" x=\"62.183807\" xlink:href=\"#m43bfdc39fb\" y=\"82.295258\"/>\n     <use style=\"fill:#1f77b4;stroke:#ffffff;stroke-width:0.48;\" x=\"62.183807\" xlink:href=\"#m43bfdc39fb\" y=\"78.219531\"/>\n     <use style=\"fill:#1f77b4;stroke:#ffffff;stroke-width:0.48;\" x=\"62.183807\" xlink:href=\"#m43bfdc39fb\" y=\"76.181668\"/>\n     <use style=\"fill:#1f77b4;stroke:#ffffff;stroke-width:0.48;\" x=\"62.183807\" xlink:href=\"#m43bfdc39fb\" y=\"74.143805\"/>\n     <use style=\"fill:#1f77b4;stroke:#ffffff;stroke-width:0.48;\" x=\"62.183807\" xlink:href=\"#m43bfdc39fb\" y=\"74.143805\"/>\n     <use style=\"fill:#1f77b4;stroke:#ffffff;stroke-width:0.48;\" x=\"62.183807\" xlink:href=\"#m43bfdc39fb\" y=\"72.105942\"/>\n     <use style=\"fill:#1f77b4;stroke:#ffffff;stroke-width:0.48;\" x=\"62.183807\" xlink:href=\"#m43bfdc39fb\" y=\"72.105942\"/>\n     <use style=\"fill:#1f77b4;stroke:#ffffff;stroke-width:0.48;\" x=\"62.183807\" xlink:href=\"#m43bfdc39fb\" y=\"70.068079\"/>\n     <use style=\"fill:#1f77b4;stroke:#ffffff;stroke-width:0.48;\" x=\"62.183807\" xlink:href=\"#m43bfdc39fb\" y=\"59.878763\"/>\n     <use style=\"fill:#1f77b4;stroke:#ffffff;stroke-width:0.48;\" x=\"62.183807\" xlink:href=\"#m43bfdc39fb\" y=\"55.803037\"/>\n     <use style=\"fill:#1f77b4;stroke:#ffffff;stroke-width:0.48;\" x=\"62.183807\" xlink:href=\"#m43bfdc39fb\" y=\"53.765173\"/>\n     <use style=\"fill:#1f77b4;stroke:#ffffff;stroke-width:0.48;\" x=\"62.183807\" xlink:href=\"#m43bfdc39fb\" y=\"51.72731\"/>\n     <use style=\"fill:#1f77b4;stroke:#ffffff;stroke-width:0.48;\" x=\"62.183807\" xlink:href=\"#m43bfdc39fb\" y=\"47.651584\"/>\n     <use style=\"fill:#1f77b4;stroke:#ffffff;stroke-width:0.48;\" x=\"62.183807\" xlink:href=\"#m43bfdc39fb\" y=\"45.613721\"/>\n     <use style=\"fill:#1f77b4;stroke:#ffffff;stroke-width:0.48;\" x=\"62.183807\" xlink:href=\"#m43bfdc39fb\" y=\"41.537994\"/>\n     <use style=\"fill:#1f77b4;stroke:#ffffff;stroke-width:0.48;\" x=\"62.183807\" xlink:href=\"#m43bfdc39fb\" y=\"31.348679\"/>\n     <use style=\"fill:#1f77b4;stroke:#ffffff;stroke-width:0.48;\" x=\"62.183807\" xlink:href=\"#m43bfdc39fb\" y=\"25.235089\"/>\n    </g>\n   </g>\n   <g id=\"matplotlib.axis_1\">\n    <g id=\"xtick_1\">\n     <g id=\"line2d_1\">\n      <defs>\n       <path d=\"M 0 0 \nL 0 3.5 \n\" id=\"m0ec2608a3f\" style=\"stroke:#000000;stroke-width:0.8;\"/>\n      </defs>\n      <g>\n       <use style=\"stroke:#000000;stroke-width:0.8;\" x=\"56.441097\" xlink:href=\"#m0ec2608a3f\" y=\"224.64\"/>\n      </g>\n     </g>\n     <g id=\"text_1\">\n      <!-- 0 -->\n      <g transform=\"translate(53.259847 239.238438)scale(0.1 -0.1)\">\n       <defs>\n        <path d=\"M 31.78125 66.40625 \nQ 24.171875 66.40625 20.328125 58.90625 \nQ 16.5 51.421875 16.5 36.375 \nQ 16.5 21.390625 20.328125 13.890625 \nQ 24.171875 6.390625 31.78125 6.390625 \nQ 39.453125 6.390625 43.28125 13.890625 \nQ 47.125 21.390625 47.125 36.375 \nQ 47.125 51.421875 43.28125 58.90625 \nQ 39.453125 66.40625 31.78125 66.40625 \nz\nM 31.78125 74.21875 \nQ 44.046875 74.21875 50.515625 64.515625 \nQ 56.984375 54.828125 56.984375 36.375 \nQ 56.984375 17.96875 50.515625 8.265625 \nQ 44.046875 -1.421875 31.78125 -1.421875 \nQ 19.53125 -1.421875 13.0625 8.265625 \nQ 6.59375 17.96875 6.59375 36.375 \nQ 6.59375 54.828125 13.0625 64.515625 \nQ 19.53125 74.21875 31.78125 74.21875 \nz\n\" id=\"DejaVuSans-48\"/>\n       </defs>\n       <use xlink:href=\"#DejaVuSans-48\"/>\n      </g>\n     </g>\n    </g>\n    <g id=\"xtick_2\">\n     <g id=\"line2d_2\">\n      <g>\n       <use style=\"stroke:#000000;stroke-width:0.8;\" x=\"113.868198\" xlink:href=\"#m0ec2608a3f\" y=\"224.64\"/>\n      </g>\n     </g>\n     <g id=\"text_2\">\n      <!-- 10 -->\n      <g transform=\"translate(107.505698 239.238438)scale(0.1 -0.1)\">\n       <defs>\n        <path d=\"M 12.40625 8.296875 \nL 28.515625 8.296875 \nL 28.515625 63.921875 \nL 10.984375 60.40625 \nL 10.984375 69.390625 \nL 28.421875 72.90625 \nL 38.28125 72.90625 \nL 38.28125 8.296875 \nL 54.390625 8.296875 \nL 54.390625 0 \nL 12.40625 0 \nz\n\" id=\"DejaVuSans-49\"/>\n       </defs>\n       <use xlink:href=\"#DejaVuSans-49\"/>\n       <use x=\"63.623047\" xlink:href=\"#DejaVuSans-48\"/>\n      </g>\n     </g>\n    </g>\n    <g id=\"xtick_3\">\n     <g id=\"line2d_3\">\n      <g>\n       <use style=\"stroke:#000000;stroke-width:0.8;\" x=\"171.295299\" xlink:href=\"#m0ec2608a3f\" y=\"224.64\"/>\n      </g>\n     </g>\n     <g id=\"text_3\">\n      <!-- 20 -->\n      <g transform=\"translate(164.932799 239.238438)scale(0.1 -0.1)\">\n       <defs>\n        <path d=\"M 19.1875 8.296875 \nL 53.609375 8.296875 \nL 53.609375 0 \nL 7.328125 0 \nL 7.328125 8.296875 \nQ 12.9375 14.109375 22.625 23.890625 \nQ 32.328125 33.6875 34.8125 36.53125 \nQ 39.546875 41.84375 41.421875 45.53125 \nQ 43.3125 49.21875 43.3125 52.78125 \nQ 43.3125 58.59375 39.234375 62.25 \nQ 35.15625 65.921875 28.609375 65.921875 \nQ 23.96875 65.921875 18.8125 64.3125 \nQ 13.671875 62.703125 7.8125 59.421875 \nL 7.8125 69.390625 \nQ 13.765625 71.78125 18.9375 73 \nQ 24.125 74.21875 28.421875 74.21875 \nQ 39.75 74.21875 46.484375 68.546875 \nQ 53.21875 62.890625 53.21875 53.421875 \nQ 53.21875 48.921875 51.53125 44.890625 \nQ 49.859375 40.875 45.40625 35.40625 \nQ 44.1875 33.984375 37.640625 27.21875 \nQ 31.109375 20.453125 19.1875 8.296875 \nz\n\" id=\"DejaVuSans-50\"/>\n       </defs>\n       <use xlink:href=\"#DejaVuSans-50\"/>\n       <use x=\"63.623047\" xlink:href=\"#DejaVuSans-48\"/>\n      </g>\n     </g>\n    </g>\n    <g id=\"xtick_4\">\n     <g id=\"line2d_4\">\n      <g>\n       <use style=\"stroke:#000000;stroke-width:0.8;\" x=\"228.7224\" xlink:href=\"#m0ec2608a3f\" y=\"224.64\"/>\n      </g>\n     </g>\n     <g id=\"text_4\">\n      <!-- 30 -->\n      <g transform=\"translate(222.3599 239.238438)scale(0.1 -0.1)\">\n       <defs>\n        <path d=\"M 40.578125 39.3125 \nQ 47.65625 37.796875 51.625 33 \nQ 55.609375 28.21875 55.609375 21.1875 \nQ 55.609375 10.40625 48.1875 4.484375 \nQ 40.765625 -1.421875 27.09375 -1.421875 \nQ 22.515625 -1.421875 17.65625 -0.515625 \nQ 12.796875 0.390625 7.625 2.203125 \nL 7.625 11.71875 \nQ 11.71875 9.328125 16.59375 8.109375 \nQ 21.484375 6.890625 26.8125 6.890625 \nQ 36.078125 6.890625 40.9375 10.546875 \nQ 45.796875 14.203125 45.796875 21.1875 \nQ 45.796875 27.640625 41.28125 31.265625 \nQ 36.765625 34.90625 28.71875 34.90625 \nL 20.21875 34.90625 \nL 20.21875 43.015625 \nL 29.109375 43.015625 \nQ 36.375 43.015625 40.234375 45.921875 \nQ 44.09375 48.828125 44.09375 54.296875 \nQ 44.09375 59.90625 40.109375 62.90625 \nQ 36.140625 65.921875 28.71875 65.921875 \nQ 24.65625 65.921875 20.015625 65.03125 \nQ 15.375 64.15625 9.8125 62.3125 \nL 9.8125 71.09375 \nQ 15.4375 72.65625 20.34375 73.4375 \nQ 25.25 74.21875 29.59375 74.21875 \nQ 40.828125 74.21875 47.359375 69.109375 \nQ 53.90625 64.015625 53.90625 55.328125 \nQ 53.90625 49.265625 50.4375 45.09375 \nQ 46.96875 40.921875 40.578125 39.3125 \nz\n\" id=\"DejaVuSans-51\"/>\n       </defs>\n       <use xlink:href=\"#DejaVuSans-51\"/>\n       <use x=\"63.623047\" xlink:href=\"#DejaVuSans-48\"/>\n      </g>\n     </g>\n    </g>\n    <g id=\"xtick_5\">\n     <g id=\"line2d_5\">\n      <g>\n       <use style=\"stroke:#000000;stroke-width:0.8;\" x=\"286.149502\" xlink:href=\"#m0ec2608a3f\" y=\"224.64\"/>\n      </g>\n     </g>\n     <g id=\"text_5\">\n      <!-- 40 -->\n      <g transform=\"translate(279.787002 239.238438)scale(0.1 -0.1)\">\n       <defs>\n        <path d=\"M 37.796875 64.3125 \nL 12.890625 25.390625 \nL 37.796875 25.390625 \nz\nM 35.203125 72.90625 \nL 47.609375 72.90625 \nL 47.609375 25.390625 \nL 58.015625 25.390625 \nL 58.015625 17.1875 \nL 47.609375 17.1875 \nL 47.609375 0 \nL 37.796875 0 \nL 37.796875 17.1875 \nL 4.890625 17.1875 \nL 4.890625 26.703125 \nz\n\" id=\"DejaVuSans-52\"/>\n       </defs>\n       <use xlink:href=\"#DejaVuSans-52\"/>\n       <use x=\"63.623047\" xlink:href=\"#DejaVuSans-48\"/>\n      </g>\n     </g>\n    </g>\n    <g id=\"xtick_6\">\n     <g id=\"line2d_6\">\n      <g>\n       <use style=\"stroke:#000000;stroke-width:0.8;\" x=\"343.576603\" xlink:href=\"#m0ec2608a3f\" y=\"224.64\"/>\n      </g>\n     </g>\n     <g id=\"text_6\">\n      <!-- 50 -->\n      <g transform=\"translate(337.214103 239.238438)scale(0.1 -0.1)\">\n       <defs>\n        <path d=\"M 10.796875 72.90625 \nL 49.515625 72.90625 \nL 49.515625 64.59375 \nL 19.828125 64.59375 \nL 19.828125 46.734375 \nQ 21.96875 47.46875 24.109375 47.828125 \nQ 26.265625 48.1875 28.421875 48.1875 \nQ 40.625 48.1875 47.75 41.5 \nQ 54.890625 34.8125 54.890625 23.390625 \nQ 54.890625 11.625 47.5625 5.09375 \nQ 40.234375 -1.421875 26.90625 -1.421875 \nQ 22.3125 -1.421875 17.546875 -0.640625 \nQ 12.796875 0.140625 7.71875 1.703125 \nL 7.71875 11.625 \nQ 12.109375 9.234375 16.796875 8.0625 \nQ 21.484375 6.890625 26.703125 6.890625 \nQ 35.15625 6.890625 40.078125 11.328125 \nQ 45.015625 15.765625 45.015625 23.390625 \nQ 45.015625 31 40.078125 35.4375 \nQ 35.15625 39.890625 26.703125 39.890625 \nQ 22.75 39.890625 18.8125 39.015625 \nQ 14.890625 38.140625 10.796875 36.28125 \nz\n\" id=\"DejaVuSans-53\"/>\n       </defs>\n       <use xlink:href=\"#DejaVuSans-53\"/>\n       <use x=\"63.623047\" xlink:href=\"#DejaVuSans-48\"/>\n      </g>\n     </g>\n    </g>\n    <g id=\"text_7\">\n     <!-- Impresiones -->\n     <g transform=\"translate(183.923438 252.916563)scale(0.1 -0.1)\">\n      <defs>\n       <path d=\"M 9.8125 72.90625 \nL 19.671875 72.90625 \nL 19.671875 0 \nL 9.8125 0 \nz\n\" id=\"DejaVuSans-73\"/>\n       <path d=\"M 52 44.1875 \nQ 55.375 50.25 60.0625 53.125 \nQ 64.75 56 71.09375 56 \nQ 79.640625 56 84.28125 50.015625 \nQ 88.921875 44.046875 88.921875 33.015625 \nL 88.921875 0 \nL 79.890625 0 \nL 79.890625 32.71875 \nQ 79.890625 40.578125 77.09375 44.375 \nQ 74.3125 48.1875 68.609375 48.1875 \nQ 61.625 48.1875 57.5625 43.546875 \nQ 53.515625 38.921875 53.515625 30.90625 \nL 53.515625 0 \nL 44.484375 0 \nL 44.484375 32.71875 \nQ 44.484375 40.625 41.703125 44.40625 \nQ 38.921875 48.1875 33.109375 48.1875 \nQ 26.21875 48.1875 22.15625 43.53125 \nQ 18.109375 38.875 18.109375 30.90625 \nL 18.109375 0 \nL 9.078125 0 \nL 9.078125 54.6875 \nL 18.109375 54.6875 \nL 18.109375 46.1875 \nQ 21.1875 51.21875 25.484375 53.609375 \nQ 29.78125 56 35.6875 56 \nQ 41.65625 56 45.828125 52.96875 \nQ 50 49.953125 52 44.1875 \nz\n\" id=\"DejaVuSans-109\"/>\n       <path d=\"M 18.109375 8.203125 \nL 18.109375 -20.796875 \nL 9.078125 -20.796875 \nL 9.078125 54.6875 \nL 18.109375 54.6875 \nL 18.109375 46.390625 \nQ 20.953125 51.265625 25.265625 53.625 \nQ 29.59375 56 35.59375 56 \nQ 45.5625 56 51.78125 48.09375 \nQ 58.015625 40.1875 58.015625 27.296875 \nQ 58.015625 14.40625 51.78125 6.484375 \nQ 45.5625 -1.421875 35.59375 -1.421875 \nQ 29.59375 -1.421875 25.265625 0.953125 \nQ 20.953125 3.328125 18.109375 8.203125 \nz\nM 48.6875 27.296875 \nQ 48.6875 37.203125 44.609375 42.84375 \nQ 40.53125 48.484375 33.40625 48.484375 \nQ 26.265625 48.484375 22.1875 42.84375 \nQ 18.109375 37.203125 18.109375 27.296875 \nQ 18.109375 17.390625 22.1875 11.75 \nQ 26.265625 6.109375 33.40625 6.109375 \nQ 40.53125 6.109375 44.609375 11.75 \nQ 48.6875 17.390625 48.6875 27.296875 \nz\n\" id=\"DejaVuSans-112\"/>\n       <path d=\"M 41.109375 46.296875 \nQ 39.59375 47.171875 37.8125 47.578125 \nQ 36.03125 48 33.890625 48 \nQ 26.265625 48 22.1875 43.046875 \nQ 18.109375 38.09375 18.109375 28.8125 \nL 18.109375 0 \nL 9.078125 0 \nL 9.078125 54.6875 \nL 18.109375 54.6875 \nL 18.109375 46.1875 \nQ 20.953125 51.171875 25.484375 53.578125 \nQ 30.03125 56 36.53125 56 \nQ 37.453125 56 38.578125 55.875 \nQ 39.703125 55.765625 41.0625 55.515625 \nz\n\" id=\"DejaVuSans-114\"/>\n       <path d=\"M 56.203125 29.59375 \nL 56.203125 25.203125 \nL 14.890625 25.203125 \nQ 15.484375 15.921875 20.484375 11.0625 \nQ 25.484375 6.203125 34.421875 6.203125 \nQ 39.59375 6.203125 44.453125 7.46875 \nQ 49.3125 8.734375 54.109375 11.28125 \nL 54.109375 2.78125 \nQ 49.265625 0.734375 44.1875 -0.34375 \nQ 39.109375 -1.421875 33.890625 -1.421875 \nQ 20.796875 -1.421875 13.15625 6.1875 \nQ 5.515625 13.8125 5.515625 26.8125 \nQ 5.515625 40.234375 12.765625 48.109375 \nQ 20.015625 56 32.328125 56 \nQ 43.359375 56 49.78125 48.890625 \nQ 56.203125 41.796875 56.203125 29.59375 \nz\nM 47.21875 32.234375 \nQ 47.125 39.59375 43.09375 43.984375 \nQ 39.0625 48.390625 32.421875 48.390625 \nQ 24.90625 48.390625 20.390625 44.140625 \nQ 15.875 39.890625 15.1875 32.171875 \nz\n\" id=\"DejaVuSans-101\"/>\n       <path d=\"M 44.28125 53.078125 \nL 44.28125 44.578125 \nQ 40.484375 46.53125 36.375 47.5 \nQ 32.28125 48.484375 27.875 48.484375 \nQ 21.1875 48.484375 17.84375 46.4375 \nQ 14.5 44.390625 14.5 40.28125 \nQ 14.5 37.15625 16.890625 35.375 \nQ 19.28125 33.59375 26.515625 31.984375 \nL 29.59375 31.296875 \nQ 39.15625 29.25 43.1875 25.515625 \nQ 47.21875 21.78125 47.21875 15.09375 \nQ 47.21875 7.46875 41.1875 3.015625 \nQ 35.15625 -1.421875 24.609375 -1.421875 \nQ 20.21875 -1.421875 15.453125 -0.5625 \nQ 10.6875 0.296875 5.421875 2 \nL 5.421875 11.28125 \nQ 10.40625 8.6875 15.234375 7.390625 \nQ 20.0625 6.109375 24.8125 6.109375 \nQ 31.15625 6.109375 34.5625 8.28125 \nQ 37.984375 10.453125 37.984375 14.40625 \nQ 37.984375 18.0625 35.515625 20.015625 \nQ 33.0625 21.96875 24.703125 23.78125 \nL 21.578125 24.515625 \nQ 13.234375 26.265625 9.515625 29.90625 \nQ 5.8125 33.546875 5.8125 39.890625 \nQ 5.8125 47.609375 11.28125 51.796875 \nQ 16.75 56 26.8125 56 \nQ 31.78125 56 36.171875 55.265625 \nQ 40.578125 54.546875 44.28125 53.078125 \nz\n\" id=\"DejaVuSans-115\"/>\n       <path d=\"M 9.421875 54.6875 \nL 18.40625 54.6875 \nL 18.40625 0 \nL 9.421875 0 \nz\nM 9.421875 75.984375 \nL 18.40625 75.984375 \nL 18.40625 64.59375 \nL 9.421875 64.59375 \nz\n\" id=\"DejaVuSans-105\"/>\n       <path d=\"M 30.609375 48.390625 \nQ 23.390625 48.390625 19.1875 42.75 \nQ 14.984375 37.109375 14.984375 27.296875 \nQ 14.984375 17.484375 19.15625 11.84375 \nQ 23.34375 6.203125 30.609375 6.203125 \nQ 37.796875 6.203125 41.984375 11.859375 \nQ 46.1875 17.53125 46.1875 27.296875 \nQ 46.1875 37.015625 41.984375 42.703125 \nQ 37.796875 48.390625 30.609375 48.390625 \nz\nM 30.609375 56 \nQ 42.328125 56 49.015625 48.375 \nQ 55.71875 40.765625 55.71875 27.296875 \nQ 55.71875 13.875 49.015625 6.21875 \nQ 42.328125 -1.421875 30.609375 -1.421875 \nQ 18.84375 -1.421875 12.171875 6.21875 \nQ 5.515625 13.875 5.515625 27.296875 \nQ 5.515625 40.765625 12.171875 48.375 \nQ 18.84375 56 30.609375 56 \nz\n\" id=\"DejaVuSans-111\"/>\n       <path d=\"M 54.890625 33.015625 \nL 54.890625 0 \nL 45.90625 0 \nL 45.90625 32.71875 \nQ 45.90625 40.484375 42.875 44.328125 \nQ 39.84375 48.1875 33.796875 48.1875 \nQ 26.515625 48.1875 22.3125 43.546875 \nQ 18.109375 38.921875 18.109375 30.90625 \nL 18.109375 0 \nL 9.078125 0 \nL 9.078125 54.6875 \nL 18.109375 54.6875 \nL 18.109375 46.1875 \nQ 21.34375 51.125 25.703125 53.5625 \nQ 30.078125 56 35.796875 56 \nQ 45.21875 56 50.046875 50.171875 \nQ 54.890625 44.34375 54.890625 33.015625 \nz\n\" id=\"DejaVuSans-110\"/>\n      </defs>\n      <use xlink:href=\"#DejaVuSans-73\"/>\n      <use x=\"29.492188\" xlink:href=\"#DejaVuSans-109\"/>\n      <use x=\"126.904297\" xlink:href=\"#DejaVuSans-112\"/>\n      <use x=\"190.380859\" xlink:href=\"#DejaVuSans-114\"/>\n      <use x=\"229.244141\" xlink:href=\"#DejaVuSans-101\"/>\n      <use x=\"290.767578\" xlink:href=\"#DejaVuSans-115\"/>\n      <use x=\"342.867188\" xlink:href=\"#DejaVuSans-105\"/>\n      <use x=\"370.650391\" xlink:href=\"#DejaVuSans-111\"/>\n      <use x=\"431.832031\" xlink:href=\"#DejaVuSans-110\"/>\n      <use x=\"495.210938\" xlink:href=\"#DejaVuSans-101\"/>\n      <use x=\"556.734375\" xlink:href=\"#DejaVuSans-115\"/>\n     </g>\n    </g>\n   </g>\n   <g id=\"matplotlib.axis_2\">\n    <g id=\"ytick_1\">\n     <g id=\"line2d_7\">\n      <defs>\n       <path d=\"M 0 0 \nL -3.5 0 \n\" id=\"m133dc68d05\" style=\"stroke:#000000;stroke-width:0.8;\"/>\n      </defs>\n      <g>\n       <use style=\"stroke:#000000;stroke-width:0.8;\" x=\"46.965625\" xlink:href=\"#m133dc68d05\" y=\"216.794227\"/>\n      </g>\n     </g>\n     <g id=\"text_8\">\n      <!-- 0 -->\n      <g transform=\"translate(33.603125 220.593446)scale(0.1 -0.1)\">\n       <use xlink:href=\"#DejaVuSans-48\"/>\n      </g>\n     </g>\n    </g>\n    <g id=\"ytick_2\">\n     <g id=\"line2d_8\">\n      <g>\n       <use style=\"stroke:#000000;stroke-width:0.8;\" x=\"46.965625\" xlink:href=\"#m133dc68d05\" y=\"176.036963\"/>\n      </g>\n     </g>\n     <g id=\"text_9\">\n      <!-- 20 -->\n      <g transform=\"translate(27.240625 179.836182)scale(0.1 -0.1)\">\n       <use xlink:href=\"#DejaVuSans-50\"/>\n       <use x=\"63.623047\" xlink:href=\"#DejaVuSans-48\"/>\n      </g>\n     </g>\n    </g>\n    <g id=\"ytick_3\">\n     <g id=\"line2d_9\">\n      <g>\n       <use style=\"stroke:#000000;stroke-width:0.8;\" x=\"46.965625\" xlink:href=\"#m133dc68d05\" y=\"135.2797\"/>\n      </g>\n     </g>\n     <g id=\"text_10\">\n      <!-- 40 -->\n      <g transform=\"translate(27.240625 139.078919)scale(0.1 -0.1)\">\n       <use xlink:href=\"#DejaVuSans-52\"/>\n       <use x=\"63.623047\" xlink:href=\"#DejaVuSans-48\"/>\n      </g>\n     </g>\n    </g>\n    <g id=\"ytick_4\">\n     <g id=\"line2d_10\">\n      <g>\n       <use style=\"stroke:#000000;stroke-width:0.8;\" x=\"46.965625\" xlink:href=\"#m133dc68d05\" y=\"94.522437\"/>\n      </g>\n     </g>\n     <g id=\"text_11\">\n      <!-- 60 -->\n      <g transform=\"translate(27.240625 98.321655)scale(0.1 -0.1)\">\n       <defs>\n        <path d=\"M 33.015625 40.375 \nQ 26.375 40.375 22.484375 35.828125 \nQ 18.609375 31.296875 18.609375 23.390625 \nQ 18.609375 15.53125 22.484375 10.953125 \nQ 26.375 6.390625 33.015625 6.390625 \nQ 39.65625 6.390625 43.53125 10.953125 \nQ 47.40625 15.53125 47.40625 23.390625 \nQ 47.40625 31.296875 43.53125 35.828125 \nQ 39.65625 40.375 33.015625 40.375 \nz\nM 52.59375 71.296875 \nL 52.59375 62.3125 \nQ 48.875 64.0625 45.09375 64.984375 \nQ 41.3125 65.921875 37.59375 65.921875 \nQ 27.828125 65.921875 22.671875 59.328125 \nQ 17.53125 52.734375 16.796875 39.40625 \nQ 19.671875 43.65625 24.015625 45.921875 \nQ 28.375 48.1875 33.59375 48.1875 \nQ 44.578125 48.1875 50.953125 41.515625 \nQ 57.328125 34.859375 57.328125 23.390625 \nQ 57.328125 12.15625 50.6875 5.359375 \nQ 44.046875 -1.421875 33.015625 -1.421875 \nQ 20.359375 -1.421875 13.671875 8.265625 \nQ 6.984375 17.96875 6.984375 36.375 \nQ 6.984375 53.65625 15.1875 63.9375 \nQ 23.390625 74.21875 37.203125 74.21875 \nQ 40.921875 74.21875 44.703125 73.484375 \nQ 48.484375 72.75 52.59375 71.296875 \nz\n\" id=\"DejaVuSans-54\"/>\n       </defs>\n       <use xlink:href=\"#DejaVuSans-54\"/>\n       <use x=\"63.623047\" xlink:href=\"#DejaVuSans-48\"/>\n      </g>\n     </g>\n    </g>\n    <g id=\"ytick_5\">\n     <g id=\"line2d_11\">\n      <g>\n       <use style=\"stroke:#000000;stroke-width:0.8;\" x=\"46.965625\" xlink:href=\"#m133dc68d05\" y=\"53.765173\"/>\n      </g>\n     </g>\n     <g id=\"text_12\">\n      <!-- 80 -->\n      <g transform=\"translate(27.240625 57.564392)scale(0.1 -0.1)\">\n       <defs>\n        <path d=\"M 31.78125 34.625 \nQ 24.75 34.625 20.71875 30.859375 \nQ 16.703125 27.09375 16.703125 20.515625 \nQ 16.703125 13.921875 20.71875 10.15625 \nQ 24.75 6.390625 31.78125 6.390625 \nQ 38.8125 6.390625 42.859375 10.171875 \nQ 46.921875 13.96875 46.921875 20.515625 \nQ 46.921875 27.09375 42.890625 30.859375 \nQ 38.875 34.625 31.78125 34.625 \nz\nM 21.921875 38.8125 \nQ 15.578125 40.375 12.03125 44.71875 \nQ 8.5 49.078125 8.5 55.328125 \nQ 8.5 64.0625 14.71875 69.140625 \nQ 20.953125 74.21875 31.78125 74.21875 \nQ 42.671875 74.21875 48.875 69.140625 \nQ 55.078125 64.0625 55.078125 55.328125 \nQ 55.078125 49.078125 51.53125 44.71875 \nQ 48 40.375 41.703125 38.8125 \nQ 48.828125 37.15625 52.796875 32.3125 \nQ 56.78125 27.484375 56.78125 20.515625 \nQ 56.78125 9.90625 50.3125 4.234375 \nQ 43.84375 -1.421875 31.78125 -1.421875 \nQ 19.734375 -1.421875 13.25 4.234375 \nQ 6.78125 9.90625 6.78125 20.515625 \nQ 6.78125 27.484375 10.78125 32.3125 \nQ 14.796875 37.15625 21.921875 38.8125 \nz\nM 18.3125 54.390625 \nQ 18.3125 48.734375 21.84375 45.5625 \nQ 25.390625 42.390625 31.78125 42.390625 \nQ 38.140625 42.390625 41.71875 45.5625 \nQ 45.3125 48.734375 45.3125 54.390625 \nQ 45.3125 60.0625 41.71875 63.234375 \nQ 38.140625 66.40625 31.78125 66.40625 \nQ 25.390625 66.40625 21.84375 63.234375 \nQ 18.3125 60.0625 18.3125 54.390625 \nz\n\" id=\"DejaVuSans-56\"/>\n       </defs>\n       <use xlink:href=\"#DejaVuSans-56\"/>\n       <use x=\"63.623047\" xlink:href=\"#DejaVuSans-48\"/>\n      </g>\n     </g>\n    </g>\n    <g id=\"ytick_6\">\n     <g id=\"line2d_12\">\n      <g>\n       <use style=\"stroke:#000000;stroke-width:0.8;\" x=\"46.965625\" xlink:href=\"#m133dc68d05\" y=\"13.00791\"/>\n      </g>\n     </g>\n     <g id=\"text_13\">\n      <!-- 100 -->\n      <g transform=\"translate(20.878125 16.807129)scale(0.1 -0.1)\">\n       <use xlink:href=\"#DejaVuSans-49\"/>\n       <use x=\"63.623047\" xlink:href=\"#DejaVuSans-48\"/>\n       <use x=\"127.246094\" xlink:href=\"#DejaVuSans-48\"/>\n      </g>\n     </g>\n    </g>\n    <g id=\"text_14\">\n     <!-- Posición -->\n     <g transform=\"translate(14.798438 136.173125)rotate(-90)scale(0.1 -0.1)\">\n      <defs>\n       <path d=\"M 19.671875 64.796875 \nL 19.671875 37.40625 \nL 32.078125 37.40625 \nQ 38.96875 37.40625 42.71875 40.96875 \nQ 46.484375 44.53125 46.484375 51.125 \nQ 46.484375 57.671875 42.71875 61.234375 \nQ 38.96875 64.796875 32.078125 64.796875 \nz\nM 9.8125 72.90625 \nL 32.078125 72.90625 \nQ 44.34375 72.90625 50.609375 67.359375 \nQ 56.890625 61.8125 56.890625 51.125 \nQ 56.890625 40.328125 50.609375 34.8125 \nQ 44.34375 29.296875 32.078125 29.296875 \nL 19.671875 29.296875 \nL 19.671875 0 \nL 9.8125 0 \nz\n\" id=\"DejaVuSans-80\"/>\n       <path d=\"M 48.78125 52.59375 \nL 48.78125 44.1875 \nQ 44.96875 46.296875 41.140625 47.34375 \nQ 37.3125 48.390625 33.40625 48.390625 \nQ 24.65625 48.390625 19.8125 42.84375 \nQ 14.984375 37.3125 14.984375 27.296875 \nQ 14.984375 17.28125 19.8125 11.734375 \nQ 24.65625 6.203125 33.40625 6.203125 \nQ 37.3125 6.203125 41.140625 7.25 \nQ 44.96875 8.296875 48.78125 10.40625 \nL 48.78125 2.09375 \nQ 45.015625 0.34375 40.984375 -0.53125 \nQ 36.96875 -1.421875 32.421875 -1.421875 \nQ 20.0625 -1.421875 12.78125 6.34375 \nQ 5.515625 14.109375 5.515625 27.296875 \nQ 5.515625 40.671875 12.859375 48.328125 \nQ 20.21875 56 33.015625 56 \nQ 37.15625 56 41.109375 55.140625 \nQ 45.0625 54.296875 48.78125 52.59375 \nz\n\" id=\"DejaVuSans-99\"/>\n       <path d=\"M 30.609375 48.390625 \nQ 23.390625 48.390625 19.1875 42.75 \nQ 14.984375 37.109375 14.984375 27.296875 \nQ 14.984375 17.484375 19.15625 11.84375 \nQ 23.34375 6.203125 30.609375 6.203125 \nQ 37.796875 6.203125 41.984375 11.859375 \nQ 46.1875 17.53125 46.1875 27.296875 \nQ 46.1875 37.015625 41.984375 42.703125 \nQ 37.796875 48.390625 30.609375 48.390625 \nz\nM 30.609375 56 \nQ 42.328125 56 49.015625 48.375 \nQ 55.71875 40.765625 55.71875 27.296875 \nQ 55.71875 13.875 49.015625 6.21875 \nQ 42.328125 -1.421875 30.609375 -1.421875 \nQ 18.84375 -1.421875 12.171875 6.21875 \nQ 5.515625 13.875 5.515625 27.296875 \nQ 5.515625 40.765625 12.171875 48.375 \nQ 18.84375 56 30.609375 56 \nz\nM 37.40625 79.984375 \nL 47.125 79.984375 \nL 31.21875 61.625 \nL 23.734375 61.625 \nz\n\" id=\"DejaVuSans-243\"/>\n      </defs>\n      <use xlink:href=\"#DejaVuSans-80\"/>\n      <use x=\"56.677734\" xlink:href=\"#DejaVuSans-111\"/>\n      <use x=\"117.859375\" xlink:href=\"#DejaVuSans-115\"/>\n      <use x=\"169.958984\" xlink:href=\"#DejaVuSans-105\"/>\n      <use x=\"197.742188\" xlink:href=\"#DejaVuSans-99\"/>\n      <use x=\"252.722656\" xlink:href=\"#DejaVuSans-105\"/>\n      <use x=\"280.505859\" xlink:href=\"#DejaVuSans-243\"/>\n      <use x=\"341.6875\" xlink:href=\"#DejaVuSans-110\"/>\n     </g>\n    </g>\n   </g>\n   <g id=\"patch_3\">\n    <path d=\"M 46.965625 224.64 \nL 46.965625 7.2 \n\" style=\"fill:none;stroke:#000000;stroke-linecap:square;stroke-linejoin:miter;stroke-width:0.8;\"/>\n   </g>\n   <g id=\"patch_4\">\n    <path d=\"M 381.765625 224.64 \nL 381.765625 7.2 \n\" style=\"fill:none;stroke:#000000;stroke-linecap:square;stroke-linejoin:miter;stroke-width:0.8;\"/>\n   </g>\n   <g id=\"patch_5\">\n    <path d=\"M 46.965625 224.64 \nL 381.765625 224.64 \n\" style=\"fill:none;stroke:#000000;stroke-linecap:square;stroke-linejoin:miter;stroke-width:0.8;\"/>\n   </g>\n   <g id=\"patch_6\">\n    <path d=\"M 46.965625 7.2 \nL 381.765625 7.2 \n\" style=\"fill:none;stroke:#000000;stroke-linecap:square;stroke-linejoin:miter;stroke-width:0.8;\"/>\n   </g>\n  </g>\n </g>\n <defs>\n  <clipPath id=\"pcd364c5980\">\n   <rect height=\"217.44\" width=\"334.8\" x=\"46.965625\" y=\"7.2\"/>\n  </clipPath>\n </defs>\n</svg>\n",
      "image/png": "[encoded data removed]"
     },
     "metadata": {
      "needs_background": "light"
     }
    }
   ],
   "source": [
    "sns.scatterplot(\"Impresiones\",\"Posición\", data = consultas)\n",
    "\n",
    "plt.show()\n"
   ]
  },
  {
   "cell_type": "code",
   "execution_count": 12,
   "metadata": {},
   "outputs": [],
   "source": [
    "consultas.to_csv(\"seo_consultas_s.csv\")"
   ]
  },
  {
   "cell_type": "code",
   "execution_count": null,
   "metadata": {},
   "outputs": [],
   "source": []
  }
 ]
}